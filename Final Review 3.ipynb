{
 "cells": [
  {
   "cell_type": "markdown",
   "id": "5392b156",
   "metadata": {},
   "source": [
    "# Import Required Libraries for data handling and analysis"
   ]
  },
  {
   "cell_type": "code",
   "execution_count": 1,
   "id": "331ce915",
   "metadata": {},
   "outputs": [],
   "source": [
    "import numpy as np\n",
    "import pandas as pd\n",
    "import seaborn as sns\n",
    "import matplotlib.pyplot as plt\n",
    "%matplotlib inline\n",
    "import warnings\n",
    "warnings.filterwarnings('ignore')"
   ]
  },
  {
   "cell_type": "markdown",
   "id": "26e464c6",
   "metadata": {},
   "source": [
    "# Importing required packages for -"
   ]
  },
  {
   "cell_type": "code",
   "execution_count": 2,
   "id": "adfe994d",
   "metadata": {},
   "outputs": [],
   "source": [
    "#1 preprocessing\n",
    "from sklearn import preprocessing\n",
    "from sklearn.preprocessing import StandardScaler,LabelEncoder,OneHotEncoder\n",
    "\n",
    "#2 modeling algorithms\n",
    "from sklearn.linear_model import LogisticRegression\n",
    "from sklearn.ensemble import RandomForestClassifier, GradientBoostingClassifier\n",
    "from sklearn.neighbors import KNeighborsClassifier\n",
    "from sklearn.tree import DecisionTreeClassifier\n",
    "from sklearn.svm import LinearSVC, SVC\n",
    "from sklearn.neural_network import MLPClassifier\n",
    "\n",
    "\n",
    "#3 model building\n",
    "from sklearn.model_selection import train_test_split\n",
    "from sklearn import metrics\n",
    "from sklearn.metrics import confusion_matrix,accuracy_score\n",
    "from sklearn.metrics import roc_curve,auc"
   ]
  },
  {
   "cell_type": "markdown",
   "id": "2d79174b",
   "metadata": {},
   "source": [
    "# Elementary Data Analysis(EDA)"
   ]
  },
  {
   "cell_type": "code",
   "execution_count": 3,
   "id": "5ac8e8f0",
   "metadata": {},
   "outputs": [],
   "source": [
    "#data extraction\n",
    "df=pd.read_excel(r\"C:\\Users\\D. PURNA\\Desktop\\New folder\\Data Set.xlsx\")"
   ]
  },
  {
   "cell_type": "code",
   "execution_count": 4,
   "id": "6a1479d6",
   "metadata": {},
   "outputs": [
    {
     "data": {
      "text/html": [
       "<div>\n",
       "<style scoped>\n",
       "    .dataframe tbody tr th:only-of-type {\n",
       "        vertical-align: middle;\n",
       "    }\n",
       "\n",
       "    .dataframe tbody tr th {\n",
       "        vertical-align: top;\n",
       "    }\n",
       "\n",
       "    .dataframe thead th {\n",
       "        text-align: right;\n",
       "    }\n",
       "</style>\n",
       "<table border=\"1\" class=\"dataframe\">\n",
       "  <thead>\n",
       "    <tr style=\"text-align: right;\">\n",
       "      <th></th>\n",
       "      <th>Employee_ID</th>\n",
       "      <th>Age</th>\n",
       "      <th>years_of_experience</th>\n",
       "      <th>Gender</th>\n",
       "      <th>MaritalStatus</th>\n",
       "      <th>Department</th>\n",
       "      <th>Job_role</th>\n",
       "      <th>Education_level</th>\n",
       "      <th>Work_Environment_Satisfaction_Level</th>\n",
       "      <th>JobInvolvement</th>\n",
       "      <th>...</th>\n",
       "      <th>Project_Completion</th>\n",
       "      <th>Working_Status</th>\n",
       "      <th>Psycho_social_indicators</th>\n",
       "      <th>Feedback</th>\n",
       "      <th>Over_time</th>\n",
       "      <th>Percentage_of_Attendence</th>\n",
       "      <th>Effected_with_corona</th>\n",
       "      <th>Percent_salary_hike</th>\n",
       "      <th>Net_connectivity</th>\n",
       "      <th>Performance_Rating</th>\n",
       "    </tr>\n",
       "  </thead>\n",
       "  <tbody>\n",
       "    <tr>\n",
       "      <th>0</th>\n",
       "      <td>1000</td>\n",
       "      <td>51.0</td>\n",
       "      <td>26</td>\n",
       "      <td>Male</td>\n",
       "      <td>Single</td>\n",
       "      <td>Computers_and_information_technology</td>\n",
       "      <td>Database_administrator</td>\n",
       "      <td>Bachelor</td>\n",
       "      <td>High</td>\n",
       "      <td>High</td>\n",
       "      <td>...</td>\n",
       "      <td>14</td>\n",
       "      <td>WFH</td>\n",
       "      <td>Very_good</td>\n",
       "      <td>Outstanding</td>\n",
       "      <td>0</td>\n",
       "      <td>89</td>\n",
       "      <td>0.0</td>\n",
       "      <td>15.0</td>\n",
       "      <td>1.0</td>\n",
       "      <td>Outstanding</td>\n",
       "    </tr>\n",
       "    <tr>\n",
       "      <th>1</th>\n",
       "      <td>1001</td>\n",
       "      <td>24.0</td>\n",
       "      <td>2</td>\n",
       "      <td>Female</td>\n",
       "      <td>Single</td>\n",
       "      <td>Finance</td>\n",
       "      <td>Loan_officer</td>\n",
       "      <td>Bachelor</td>\n",
       "      <td>High</td>\n",
       "      <td>Very_High</td>\n",
       "      <td>...</td>\n",
       "      <td>1</td>\n",
       "      <td>WFH</td>\n",
       "      <td>Excellent</td>\n",
       "      <td>Very_good</td>\n",
       "      <td>1</td>\n",
       "      <td>71</td>\n",
       "      <td>0.0</td>\n",
       "      <td>13.0</td>\n",
       "      <td>1.0</td>\n",
       "      <td>Outstanding</td>\n",
       "    </tr>\n",
       "    <tr>\n",
       "      <th>2</th>\n",
       "      <td>1002</td>\n",
       "      <td>20.0</td>\n",
       "      <td>1</td>\n",
       "      <td>Male</td>\n",
       "      <td>Single</td>\n",
       "      <td>Human_Resource</td>\n",
       "      <td>HR_manager</td>\n",
       "      <td>Bachelor</td>\n",
       "      <td>Very_High</td>\n",
       "      <td>High</td>\n",
       "      <td>...</td>\n",
       "      <td>1</td>\n",
       "      <td>WFO</td>\n",
       "      <td>Very_good</td>\n",
       "      <td>Outstanding</td>\n",
       "      <td>0</td>\n",
       "      <td>87</td>\n",
       "      <td>0.0</td>\n",
       "      <td>14.0</td>\n",
       "      <td>1.0</td>\n",
       "      <td>Excellent</td>\n",
       "    </tr>\n",
       "    <tr>\n",
       "      <th>3</th>\n",
       "      <td>1003</td>\n",
       "      <td>29.0</td>\n",
       "      <td>3</td>\n",
       "      <td>Female</td>\n",
       "      <td>Married</td>\n",
       "      <td>Human_Resource</td>\n",
       "      <td>Recruiting_and_Staffing</td>\n",
       "      <td>Master</td>\n",
       "      <td>Very_High</td>\n",
       "      <td>Very_High</td>\n",
       "      <td>...</td>\n",
       "      <td>5</td>\n",
       "      <td>WFO</td>\n",
       "      <td>Very_good</td>\n",
       "      <td>Very_good</td>\n",
       "      <td>1</td>\n",
       "      <td>84</td>\n",
       "      <td>1.0</td>\n",
       "      <td>14.0</td>\n",
       "      <td>1.0</td>\n",
       "      <td>Outstanding</td>\n",
       "    </tr>\n",
       "    <tr>\n",
       "      <th>4</th>\n",
       "      <td>1004</td>\n",
       "      <td>28.0</td>\n",
       "      <td>4</td>\n",
       "      <td>Male</td>\n",
       "      <td>Single</td>\n",
       "      <td>Finance</td>\n",
       "      <td>Financial_adviser</td>\n",
       "      <td>Master</td>\n",
       "      <td>High</td>\n",
       "      <td>Medium</td>\n",
       "      <td>...</td>\n",
       "      <td>5</td>\n",
       "      <td>WFH</td>\n",
       "      <td>Good</td>\n",
       "      <td>Good</td>\n",
       "      <td>1</td>\n",
       "      <td>60</td>\n",
       "      <td>0.0</td>\n",
       "      <td>8.0</td>\n",
       "      <td>1.0</td>\n",
       "      <td>Good</td>\n",
       "    </tr>\n",
       "  </tbody>\n",
       "</table>\n",
       "<p>5 rows × 30 columns</p>\n",
       "</div>"
      ],
      "text/plain": [
       "   Employee_ID   Age  years_of_experience  Gender MaritalStatus  \\\n",
       "0         1000  51.0                   26    Male        Single   \n",
       "1         1001  24.0                    2  Female        Single   \n",
       "2         1002  20.0                    1    Male        Single   \n",
       "3         1003  29.0                    3  Female       Married   \n",
       "4         1004  28.0                    4    Male        Single   \n",
       "\n",
       "                             Department                 Job_role  \\\n",
       "0  Computers_and_information_technology   Database_administrator   \n",
       "1                               Finance             Loan_officer   \n",
       "2                        Human_Resource               HR_manager   \n",
       "3                        Human_Resource  Recruiting_and_Staffing   \n",
       "4                               Finance        Financial_adviser   \n",
       "\n",
       "  Education_level Work_Environment_Satisfaction_Level JobInvolvement  ...  \\\n",
       "0        Bachelor                                High           High  ...   \n",
       "1        Bachelor                                High      Very_High  ...   \n",
       "2        Bachelor                           Very_High           High  ...   \n",
       "3          Master                           Very_High      Very_High  ...   \n",
       "4          Master                                High         Medium  ...   \n",
       "\n",
       "   Project_Completion Working_Status  Psycho_social_indicators     Feedback  \\\n",
       "0                  14            WFH                 Very_good  Outstanding   \n",
       "1                   1            WFH                 Excellent    Very_good   \n",
       "2                   1            WFO                 Very_good  Outstanding   \n",
       "3                   5            WFO                 Very_good    Very_good   \n",
       "4                   5            WFH                      Good         Good   \n",
       "\n",
       "   Over_time  Percentage_of_Attendence Effected_with_corona  \\\n",
       "0          0                        89                  0.0   \n",
       "1          1                        71                  0.0   \n",
       "2          0                        87                  0.0   \n",
       "3          1                        84                  1.0   \n",
       "4          1                        60                  0.0   \n",
       "\n",
       "  Percent_salary_hike Net_connectivity Performance_Rating  \n",
       "0                15.0              1.0        Outstanding  \n",
       "1                13.0              1.0        Outstanding  \n",
       "2                14.0              1.0          Excellent  \n",
       "3                14.0              1.0        Outstanding  \n",
       "4                 8.0              1.0               Good  \n",
       "\n",
       "[5 rows x 30 columns]"
      ]
     },
     "execution_count": 4,
     "metadata": {},
     "output_type": "execute_result"
    }
   ],
   "source": [
    "#display first five rows\n",
    "df.head()"
   ]
  },
  {
   "cell_type": "code",
   "execution_count": 5,
   "id": "0dc21054",
   "metadata": {},
   "outputs": [
    {
     "data": {
      "text/plain": [
       "(5500, 30)"
      ]
     },
     "execution_count": 5,
     "metadata": {},
     "output_type": "execute_result"
    }
   ],
   "source": [
    "#display the numbver of rows and columns\n",
    "df.shape"
   ]
  },
  {
   "cell_type": "code",
   "execution_count": 6,
   "id": "f05d040a",
   "metadata": {},
   "outputs": [
    {
     "data": {
      "text/plain": [
       "object     17\n",
       "int64       8\n",
       "float64     5\n",
       "dtype: int64"
      ]
     },
     "execution_count": 6,
     "metadata": {},
     "output_type": "execute_result"
    }
   ],
   "source": [
    "df.dtypes.value_counts()"
   ]
  },
  {
   "cell_type": "code",
   "execution_count": 7,
   "id": "f27322d7",
   "metadata": {},
   "outputs": [
    {
     "data": {
      "text/plain": [
       "Employee_ID                              0\n",
       "Age                                     55\n",
       "years_of_experience                      0\n",
       "Gender                                  44\n",
       "MaritalStatus                            0\n",
       "Department                              64\n",
       "Job_role                                47\n",
       "Education_level                         95\n",
       "Work_Environment_Satisfaction_Level     88\n",
       "JobInvolvement                           0\n",
       "JobLevel                                 0\n",
       "JobSatisfaction                          0\n",
       "Annual_Income_in_lacs                   42\n",
       "RelationshipSatisfaction                 0\n",
       "Working_hrs_per_day                      0\n",
       "Training_Time_in_months                  0\n",
       "Work_Life_Balance                      106\n",
       "Behaviourial_Competence                 96\n",
       "On_Time_Delivery                        70\n",
       "Ticket_Solving_Management                0\n",
       "Project_Completion                       0\n",
       "Working_Status                           0\n",
       "Psycho_social_indicators                 0\n",
       "Feedback                                 0\n",
       "Over_time                                0\n",
       "Percentage_of_Attendence                 0\n",
       "Effected_with_corona                    65\n",
       "Percent_salary_hike                    102\n",
       "Net_connectivity                        77\n",
       "Performance_Rating                      80\n",
       "dtype: int64"
      ]
     },
     "execution_count": 7,
     "metadata": {},
     "output_type": "execute_result"
    }
   ],
   "source": [
    "#check if missing values are present\n",
    "#to display boolean values for missing values.\n",
    "\n",
    "df.isnull().sum()"
   ]
  },
  {
   "cell_type": "code",
   "execution_count": 8,
   "id": "f820d661",
   "metadata": {},
   "outputs": [
    {
     "data": {
      "text/plain": [
       "Employee_ID                              int64\n",
       "Age                                    float64\n",
       "years_of_experience                      int64\n",
       "Gender                                  object\n",
       "MaritalStatus                           object\n",
       "Department                              object\n",
       "Job_role                                object\n",
       "Education_level                         object\n",
       "Work_Environment_Satisfaction_Level     object\n",
       "JobInvolvement                          object\n",
       "JobLevel                                 int64\n",
       "JobSatisfaction                         object\n",
       "Annual_Income_in_lacs                  float64\n",
       "RelationshipSatisfaction                object\n",
       "Working_hrs_per_day                      int64\n",
       "Training_Time_in_months                  int64\n",
       "Work_Life_Balance                       object\n",
       "Behaviourial_Competence                 object\n",
       "On_Time_Delivery                        object\n",
       "Ticket_Solving_Management               object\n",
       "Project_Completion                       int64\n",
       "Working_Status                          object\n",
       "Psycho_social_indicators                object\n",
       "Feedback                                object\n",
       "Over_time                                int64\n",
       "Percentage_of_Attendence                 int64\n",
       "Effected_with_corona                   float64\n",
       "Percent_salary_hike                    float64\n",
       "Net_connectivity                       float64\n",
       "Performance_Rating                      object\n",
       "dtype: object"
      ]
     },
     "execution_count": 8,
     "metadata": {},
     "output_type": "execute_result"
    }
   ],
   "source": [
    "df.dtypes"
   ]
  },
  {
   "cell_type": "code",
   "execution_count": 9,
   "id": "7648bd4c",
   "metadata": {},
   "outputs": [
    {
     "data": {
      "text/plain": [
       "<AxesSubplot:>"
      ]
     },
     "execution_count": 9,
     "metadata": {},
     "output_type": "execute_result"
    },
    {
     "data": {
      "image/png": "[encoded data removed]",
      "text/plain": [
       "<Figure size 432x288 with 1 Axes>"
      ]
     },
     "metadata": {
      "needs_background": "light"
     },
     "output_type": "display_data"
    }
   ],
   "source": [
    "#missing data heat map\n",
    "sns.heatmap(df.isnull(),yticklabels=False,cbar=False,cmap='viridis')"
   ]
  },
  {
   "cell_type": "markdown",
   "id": "56c4ca6a",
   "metadata": {},
   "source": [
    "# Handling Missing Values"
   ]
  },
  {
   "cell_type": "code",
   "execution_count": 10,
   "id": "36a7c0cd",
   "metadata": {},
   "outputs": [
    {
     "data": {
      "text/plain": [
       "40.91974288337925"
      ]
     },
     "execution_count": 10,
     "metadata": {},
     "output_type": "execute_result"
    }
   ],
   "source": [
    "df['Age'].mean()"
   ]
  },
  {
   "cell_type": "code",
   "execution_count": 11,
   "id": "25f0a182",
   "metadata": {},
   "outputs": [],
   "source": [
    "df['Age'].fillna(df['Age'].mean(),inplace=True)"
   ]
  },
  {
   "cell_type": "code",
   "execution_count": 12,
   "id": "c19c25cb",
   "metadata": {},
   "outputs": [
    {
     "data": {
      "text/plain": [
       "Female    2760\n",
       "Male      2696\n",
       "Name: Gender, dtype: int64"
      ]
     },
     "execution_count": 12,
     "metadata": {},
     "output_type": "execute_result"
    }
   ],
   "source": [
    "df['Gender'].value_counts()"
   ]
  },
  {
   "cell_type": "code",
   "execution_count": 13,
   "id": "cc4f1bb7",
   "metadata": {},
   "outputs": [],
   "source": [
    "df['Gender'].fillna('Female',inplace=True)"
   ]
  },
  {
   "cell_type": "code",
   "execution_count": 14,
   "id": "0d93eb20",
   "metadata": {},
   "outputs": [
    {
     "data": {
      "text/plain": [
       "Human_Resource                          919\n",
       "Computers_and_information_technology    828\n",
       "Digital_Marketing                       715\n",
       "Research_and_Development                677\n",
       "Finance                                 625\n",
       "Quality_assurance                       585\n",
       "Customer_service                        560\n",
       "Management                              527\n",
       "Name: Department, dtype: int64"
      ]
     },
     "execution_count": 14,
     "metadata": {},
     "output_type": "execute_result"
    }
   ],
   "source": [
    "df['Department'].value_counts()"
   ]
  },
  {
   "cell_type": "code",
   "execution_count": 15,
   "id": "7bdb13d9",
   "metadata": {},
   "outputs": [],
   "source": [
    "df['Department'].fillna('Human_Resource',inplace=True)"
   ]
  },
  {
   "cell_type": "code",
   "execution_count": 16,
   "id": "a2510e4c",
   "metadata": {},
   "outputs": [
    {
     "data": {
      "text/plain": [
       "HR_manager                              245\n",
       "Safety_and_Compliance                   196\n",
       "Software_application_packager           188\n",
       "Marketing_assistant                     170\n",
       "Product_marketing                       167\n",
       "Recruiting_and_Staffing                 155\n",
       "Talent_Management                       152\n",
       "R&D_analyst                             149\n",
       "Compensation_and_Benefits               143\n",
       "Customer_service_representative         143\n",
       "Customer_service_supervisor             142\n",
       "Customer_support_engineer               140\n",
       "Strategic_Planner                       139\n",
       "Customer_service_manager                137\n",
       "R&D_Manager                             133\n",
       "R&D_scientist                           129\n",
       "R&D_engineer                            124\n",
       "Systems_analyst                         123\n",
       "Data_scientist                          119\n",
       "Marketing_analyst                       116\n",
       "Training_and_Development                115\n",
       "Network_administrator                   113\n",
       "Full_stack_developer                    105\n",
       "Senior_software_engineer                 95\n",
       "Budget_analyst                           92\n",
       "Digital_marketing_coordinator            91\n",
       "Finance_analyst                          90\n",
       "Content_marketer                         90\n",
       "Financial_adviser                        90\n",
       "Loan_officer                             89\n",
       "Accoutant                                89\n",
       "Fianancial_manager                       88\n",
       "Actuary                                  88\n",
       "Database_administrator                   87\n",
       "Quality_assurance_manager                80\n",
       "Computer_Information_Systems_Manager     78\n",
       "Social_media_marketing_coordinator       78\n",
       "Business_Development                     77\n",
       "Administrative_Services_Manager          76\n",
       "Quality_analyst                          76\n",
       "Quality_technician                       76\n",
       "Quality_auditor                          75\n",
       "Marketing_Manager                        75\n",
       "Financial_manager                        74\n",
       "Sales_manager                            74\n",
       "Quality_assurance_tester                 72\n",
       "Quality_coordinator                      72\n",
       "Quality_engineer                         69\n",
       "Quality_control_supervisor               68\n",
       "Marketing_executive                       1\n",
       "Name: Job_role, dtype: int64"
      ]
     },
     "execution_count": 16,
     "metadata": {},
     "output_type": "execute_result"
    }
   ],
   "source": [
    "df['Job_role'].value_counts()"
   ]
  },
  {
   "cell_type": "code",
   "execution_count": 17,
   "id": "4f2aeac1",
   "metadata": {},
   "outputs": [],
   "source": [
    "df['Job_role'].fillna('HR_manager',inplace=True)"
   ]
  },
  {
   "cell_type": "code",
   "execution_count": 18,
   "id": "a103cb57",
   "metadata": {},
   "outputs": [
    {
     "data": {
      "text/plain": [
       "Bachelor     2236\n",
       "Master       1755\n",
       "Doctor        928\n",
       "PUC           247\n",
       "Below_PUC     239\n",
       "Name: Education_level, dtype: int64"
      ]
     },
     "execution_count": 18,
     "metadata": {},
     "output_type": "execute_result"
    }
   ],
   "source": [
    "df['Education_level'].value_counts()"
   ]
  },
  {
   "cell_type": "code",
   "execution_count": 19,
   "id": "b723fe95",
   "metadata": {},
   "outputs": [],
   "source": [
    "df['Education_level'].fillna('Bachelor',inplace=True)"
   ]
  },
  {
   "cell_type": "code",
   "execution_count": 20,
   "id": "bc60253d",
   "metadata": {},
   "outputs": [
    {
     "data": {
      "text/plain": [
       "High         2482\n",
       "Very_High    1219\n",
       "Medium        882\n",
       "Low           829\n",
       "Name: Work_Environment_Satisfaction_Level, dtype: int64"
      ]
     },
     "execution_count": 20,
     "metadata": {},
     "output_type": "execute_result"
    }
   ],
   "source": [
    "df['Work_Environment_Satisfaction_Level'].value_counts()"
   ]
  },
  {
   "cell_type": "code",
   "execution_count": 21,
   "id": "cf4566ff",
   "metadata": {},
   "outputs": [],
   "source": [
    "df['Work_Environment_Satisfaction_Level'].fillna('High',inplace=True)"
   ]
  },
  {
   "cell_type": "code",
   "execution_count": 22,
   "id": "0b25ceeb",
   "metadata": {},
   "outputs": [
    {
     "data": {
      "text/plain": [
       "Better    1957\n",
       "Best      1373\n",
       "Good      1259\n",
       "Bad        805\n",
       "Name: Work_Life_Balance, dtype: int64"
      ]
     },
     "execution_count": 22,
     "metadata": {},
     "output_type": "execute_result"
    }
   ],
   "source": [
    "df['Work_Life_Balance'].value_counts()"
   ]
  },
  {
   "cell_type": "code",
   "execution_count": 23,
   "id": "dd5d5717",
   "metadata": {},
   "outputs": [],
   "source": [
    "df['Work_Life_Balance'].fillna('Better',inplace=True)"
   ]
  },
  {
   "cell_type": "code",
   "execution_count": 24,
   "id": "6f6f5942",
   "metadata": {},
   "outputs": [
    {
     "data": {
      "text/plain": [
       "Good            1612\n",
       "Very_good       1333\n",
       "Excellent        882\n",
       "Poor             543\n",
       "In_adequate      540\n",
       "Satisfactory     494\n",
       "Name: Behaviourial_Competence, dtype: int64"
      ]
     },
     "execution_count": 24,
     "metadata": {},
     "output_type": "execute_result"
    }
   ],
   "source": [
    "df['Behaviourial_Competence'].value_counts()"
   ]
  },
  {
   "cell_type": "code",
   "execution_count": 25,
   "id": "d8f6cbdd",
   "metadata": {},
   "outputs": [],
   "source": [
    "df['Behaviourial_Competence'].fillna('Good',inplace=True)"
   ]
  },
  {
   "cell_type": "code",
   "execution_count": 26,
   "id": "321b6db2",
   "metadata": {},
   "outputs": [
    {
     "data": {
      "text/plain": [
       "Excellent        1686\n",
       "Good             1623\n",
       "Poor             1086\n",
       "good              439\n",
       "fair              300\n",
       "satistfactory     296\n",
       "Name: On_Time_Delivery, dtype: int64"
      ]
     },
     "execution_count": 26,
     "metadata": {},
     "output_type": "execute_result"
    }
   ],
   "source": [
    "df['On_Time_Delivery'].value_counts()"
   ]
  },
  {
   "cell_type": "code",
   "execution_count": 27,
   "id": "e5d5a7a6",
   "metadata": {},
   "outputs": [],
   "source": [
    "df['On_Time_Delivery'].fillna('Excellent',inplace=True)"
   ]
  },
  {
   "cell_type": "code",
   "execution_count": 28,
   "id": "a27e5e9f",
   "metadata": {},
   "outputs": [
    {
     "data": {
      "text/plain": [
       "0.0    3781\n",
       "1.0    1654\n",
       "Name: Effected_with_corona, dtype: int64"
      ]
     },
     "execution_count": 28,
     "metadata": {},
     "output_type": "execute_result"
    }
   ],
   "source": [
    "df['Effected_with_corona'].value_counts()"
   ]
  },
  {
   "cell_type": "code",
   "execution_count": 29,
   "id": "81f7999c",
   "metadata": {},
   "outputs": [],
   "source": [
    "df['Effected_with_corona'].fillna(0.0,inplace=True)"
   ]
  },
  {
   "cell_type": "code",
   "execution_count": 30,
   "id": "bfa6d5d7",
   "metadata": {},
   "outputs": [
    {
     "data": {
      "text/plain": [
       "9.524453501296776"
      ]
     },
     "execution_count": 30,
     "metadata": {},
     "output_type": "execute_result"
    }
   ],
   "source": [
    "df['Percent_salary_hike'].mean()"
   ]
  },
  {
   "cell_type": "code",
   "execution_count": 31,
   "id": "5fd5d2c8",
   "metadata": {},
   "outputs": [],
   "source": [
    "df['Percent_salary_hike'].fillna(df['Percent_salary_hike'].mean(),inplace=True)"
   ]
  },
  {
   "cell_type": "code",
   "execution_count": 32,
   "id": "495d9c48",
   "metadata": {},
   "outputs": [
    {
     "data": {
      "text/plain": [
       "17.054415536826678"
      ]
     },
     "execution_count": 32,
     "metadata": {},
     "output_type": "execute_result"
    }
   ],
   "source": [
    "df['Annual_Income_in_lacs'].mean()"
   ]
  },
  {
   "cell_type": "code",
   "execution_count": 33,
   "id": "f18460e8",
   "metadata": {},
   "outputs": [],
   "source": [
    "df['Annual_Income_in_lacs'].fillna(df['Annual_Income_in_lacs'].mean(),inplace=True)"
   ]
  },
  {
   "cell_type": "code",
   "execution_count": 34,
   "id": "84446bb9",
   "metadata": {},
   "outputs": [
    {
     "data": {
      "text/plain": [
       "Outstanding    1751\n",
       "Good           1491\n",
       "Excellent      1094\n",
       "Low            1084\n",
       "Name: Performance_Rating, dtype: int64"
      ]
     },
     "execution_count": 34,
     "metadata": {},
     "output_type": "execute_result"
    }
   ],
   "source": [
    "df['Performance_Rating'].value_counts()"
   ]
  },
  {
   "cell_type": "code",
   "execution_count": 35,
   "id": "2af678d1",
   "metadata": {},
   "outputs": [],
   "source": [
    "df['Performance_Rating'].fillna('Outstanding',inplace=True)"
   ]
  },
  {
   "cell_type": "code",
   "execution_count": 36,
   "id": "4075425b",
   "metadata": {},
   "outputs": [
    {
     "data": {
      "text/plain": [
       "1.0    4209\n",
       "0.0    1214\n",
       "Name: Net_connectivity, dtype: int64"
      ]
     },
     "execution_count": 36,
     "metadata": {},
     "output_type": "execute_result"
    }
   ],
   "source": [
    "df['Net_connectivity'].value_counts()"
   ]
  },
  {
   "cell_type": "code",
   "execution_count": 37,
   "id": "978a8349",
   "metadata": {},
   "outputs": [],
   "source": [
    "df['Net_connectivity'].fillna(1.0,inplace=True)"
   ]
  },
  {
   "cell_type": "code",
   "execution_count": 38,
   "id": "6e920942",
   "metadata": {},
   "outputs": [
    {
     "data": {
      "text/plain": [
       "Employee_ID                            0\n",
       "Age                                    0\n",
       "years_of_experience                    0\n",
       "Gender                                 0\n",
       "MaritalStatus                          0\n",
       "Department                             0\n",
       "Job_role                               0\n",
       "Education_level                        0\n",
       "Work_Environment_Satisfaction_Level    0\n",
       "JobInvolvement                         0\n",
       "JobLevel                               0\n",
       "JobSatisfaction                        0\n",
       "Annual_Income_in_lacs                  0\n",
       "RelationshipSatisfaction               0\n",
       "Working_hrs_per_day                    0\n",
       "Training_Time_in_months                0\n",
       "Work_Life_Balance                      0\n",
       "Behaviourial_Competence                0\n",
       "On_Time_Delivery                       0\n",
       "Ticket_Solving_Management              0\n",
       "Project_Completion                     0\n",
       "Working_Status                         0\n",
       "Psycho_social_indicators               0\n",
       "Feedback                               0\n",
       "Over_time                              0\n",
       "Percentage_of_Attendence               0\n",
       "Effected_with_corona                   0\n",
       "Percent_salary_hike                    0\n",
       "Net_connectivity                       0\n",
       "Performance_Rating                     0\n",
       "dtype: int64"
      ]
     },
     "execution_count": 38,
     "metadata": {},
     "output_type": "execute_result"
    }
   ],
   "source": [
    "df.isnull().sum()"
   ]
  },
  {
   "cell_type": "code",
   "execution_count": 39,
   "id": "ee169e68",
   "metadata": {},
   "outputs": [
    {
     "data": {
      "text/plain": [
       "<AxesSubplot:>"
      ]
     },
     "execution_count": 39,
     "metadata": {},
     "output_type": "execute_result"
    },
    {
     "data": {
      "image/png": "[encoded data removed]",
      "text/plain": [
       "<Figure size 432x288 with 1 Axes>"
      ]
     },
     "metadata": {
      "needs_background": "light"
     },
     "output_type": "display_data"
    }
   ],
   "source": [
    "#missing data heat map\n",
    "sns.heatmap(df.isnull(),yticklabels=False,cbar=False,cmap='viridis')"
   ]
  },
  {
   "cell_type": "markdown",
   "id": "4c6fc861",
   "metadata": {},
   "source": [
    "# Handling Outliers"
   ]
  },
  {
   "cell_type": "code",
   "execution_count": 40,
   "id": "d80a8ca0",
   "metadata": {},
   "outputs": [
    {
     "name": "stdout",
     "output_type": "stream",
     "text": [
      "count    5500.000000\n",
      "mean       40.919743\n",
      "std        20.049683\n",
      "min        20.000000\n",
      "25%        30.000000\n",
      "50%        40.919743\n",
      "75%        50.000000\n",
      "max       543.000000\n",
      "Name: Age, dtype: float64\n",
      "count    5500.000000\n",
      "mean        2.957636\n",
      "std         1.383214\n",
      "min         1.000000\n",
      "25%         2.000000\n",
      "50%         3.000000\n",
      "75%         4.000000\n",
      "max         5.000000\n",
      "Name: JobLevel, dtype: float64\n",
      "count    5500.000000\n",
      "mean       16.244000\n",
      "std        14.586515\n",
      "min         0.000000\n",
      "25%         5.000000\n",
      "50%        16.000000\n",
      "75%        25.000000\n",
      "max       432.000000\n",
      "Name: years_of_experience, dtype: float64\n",
      "count    5500.000000\n",
      "mean        3.574909\n",
      "std         1.877216\n",
      "min         1.000000\n",
      "25%         2.000000\n",
      "50%         4.000000\n",
      "75%         5.000000\n",
      "max        24.000000\n",
      "Name: Training_Time_in_months, dtype: float64\n",
      "count    5500.000000\n",
      "mean        9.331818\n",
      "std         4.655575\n",
      "min         1.000000\n",
      "25%         5.000000\n",
      "50%        11.000000\n",
      "75%        13.000000\n",
      "max        14.000000\n",
      "Name: Project_Completion, dtype: float64\n",
      "count    5500.000000\n",
      "mean        9.524454\n",
      "std         4.928444\n",
      "min         1.000000\n",
      "25%         5.000000\n",
      "50%        10.000000\n",
      "75%        14.000000\n",
      "max        16.000000\n",
      "Name: Percent_salary_hike, dtype: float64\n",
      "count    5500.000000\n",
      "mean       17.054416\n",
      "std         9.285072\n",
      "min         5.000000\n",
      "25%         8.000000\n",
      "50%        18.000000\n",
      "75%        25.000000\n",
      "max       100.000000\n",
      "Name: Annual_Income_in_lacs, dtype: float64\n",
      "count    5500.000000\n",
      "mean        8.997455\n",
      "std         0.817828\n",
      "min         8.000000\n",
      "25%         8.000000\n",
      "50%         9.000000\n",
      "75%        10.000000\n",
      "max        10.000000\n",
      "Name: Working_hrs_per_day, dtype: float64\n",
      "count    5500.000000\n",
      "mean       77.552909\n",
      "std        17.376272\n",
      "min        34.000000\n",
      "25%        66.000000\n",
      "50%        82.000000\n",
      "75%        93.000000\n",
      "max       100.000000\n",
      "Name: Percentage_of_Attendence, dtype: float64\n"
     ]
    }
   ],
   "source": [
    "columns=['Age','JobLevel','years_of_experience','Training_Time_in_months','Project_Completion','Percent_salary_hike','Annual_Income_in_lacs','Working_hrs_per_day','Percentage_of_Attendence']\n",
    "for x in columns:\n",
    "    print(df[x].describe())"
   ]
  },
  {
   "cell_type": "code",
   "execution_count": 41,
   "id": "ef4f192c",
   "metadata": {},
   "outputs": [
    {
     "data": {
      "text/plain": [
       "<AxesSubplot:xlabel='Age'>"
      ]
     },
     "execution_count": 41,
     "metadata": {},
     "output_type": "execute_result"
    },
    {
     "data": {
      "image/png": "[encoded data removed]",
      "text/plain": [
       "<Figure size 432x288 with 1 Axes>"
      ]
     },
     "metadata": {
      "needs_background": "light"
     },
     "output_type": "display_data"
    }
   ],
   "source": [
    "sns.boxplot(df['Age'])"
   ]
  },
  {
   "cell_type": "code",
   "execution_count": 42,
   "id": "e66343dc",
   "metadata": {},
   "outputs": [
    {
     "data": {
      "text/plain": [
       "<AxesSubplot:xlabel='JobLevel'>"
      ]
     },
     "execution_count": 42,
     "metadata": {},
     "output_type": "execute_result"
    },
    {
     "data": {
      "image/png": "[encoded data removed]",
      "text/plain": [
       "<Figure size 432x288 with 1 Axes>"
      ]
     },
     "metadata": {
      "needs_background": "light"
     },
     "output_type": "display_data"
    }
   ],
   "source": [
    "sns.boxplot(df['JobLevel'])"
   ]
  },
  {
   "cell_type": "code",
   "execution_count": 43,
   "id": "2d7eb962",
   "metadata": {},
   "outputs": [
    {
     "data": {
      "text/plain": [
       "<AxesSubplot:xlabel='years_of_experience'>"
      ]
     },
     "execution_count": 43,
     "metadata": {},
     "output_type": "execute_result"
    },
    {
     "data": {
      "image/png": "[encoded data removed]",
      "text/plain": [
       "<Figure size 432x288 with 1 Axes>"
      ]
     },
     "metadata": {
      "needs_background": "light"
     },
     "output_type": "display_data"
    }
   ],
   "source": [
    "sns.boxplot(df['years_of_experience'])"
   ]
  },
  {
   "cell_type": "code",
   "execution_count": 44,
   "id": "413c1735",
   "metadata": {},
   "outputs": [
    {
     "data": {
      "text/plain": [
       "<AxesSubplot:xlabel='Training_Time_in_months'>"
      ]
     },
     "execution_count": 44,
     "metadata": {},
     "output_type": "execute_result"
    },
    {
     "data": {
      "image/png": "[encoded data removed]",
      "text/plain": [
       "<Figure size 432x288 with 1 Axes>"
      ]
     },
     "metadata": {
      "needs_background": "light"
     },
     "output_type": "display_data"
    }
   ],
   "source": [
    "sns.boxplot(df['Training_Time_in_months'])"
   ]
  },
  {
   "cell_type": "code",
   "execution_count": 45,
   "id": "71b1c02e",
   "metadata": {},
   "outputs": [
    {
     "data": {
      "text/plain": [
       "<AxesSubplot:xlabel='Project_Completion'>"
      ]
     },
     "execution_count": 45,
     "metadata": {},
     "output_type": "execute_result"
    },
    {
     "data": {
      "image/png": "[encoded data removed]",
      "text/plain": [
       "<Figure size 432x288 with 1 Axes>"
      ]
     },
     "metadata": {
      "needs_background": "light"
     },
     "output_type": "display_data"
    }
   ],
   "source": [
    "sns.boxplot(df['Project_Completion'])"
   ]
  },
  {
   "cell_type": "code",
   "execution_count": 46,
   "id": "122322dd",
   "metadata": {},
   "outputs": [
    {
     "data": {
      "text/plain": [
       "<AxesSubplot:xlabel='Percent_salary_hike'>"
      ]
     },
     "execution_count": 46,
     "metadata": {},
     "output_type": "execute_result"
    },
    {
     "data": {
      "image/png": "[encoded data removed]",
      "text/plain": [
       "<Figure size 432x288 with 1 Axes>"
      ]
     },
     "metadata": {
      "needs_background": "light"
     },
     "output_type": "display_data"
    }
   ],
   "source": [
    "sns.boxplot(df['Percent_salary_hike'])"
   ]
  },
  {
   "cell_type": "code",
   "execution_count": 47,
   "id": "568e5c07",
   "metadata": {},
   "outputs": [
    {
     "data": {
      "text/plain": [
       "<AxesSubplot:xlabel='Annual_Income_in_lacs'>"
      ]
     },
     "execution_count": 47,
     "metadata": {},
     "output_type": "execute_result"
    },
    {
     "data": {
      "image/png": "[encoded data removed]",
      "text/plain": [
       "<Figure size 432x288 with 1 Axes>"
      ]
     },
     "metadata": {
      "needs_background": "light"
     },
     "output_type": "display_data"
    }
   ],
   "source": [
    "sns.boxplot(df['Annual_Income_in_lacs'])"
   ]
  },
  {
   "cell_type": "code",
   "execution_count": 48,
   "id": "1163ec98",
   "metadata": {},
   "outputs": [
    {
     "data": {
      "text/plain": [
       "<AxesSubplot:xlabel='Percentage_of_Attendence'>"
      ]
     },
     "execution_count": 48,
     "metadata": {},
     "output_type": "execute_result"
    },
    {
     "data": {
      "image/png": "[encoded data removed]",
      "text/plain": [
       "<Figure size 432x288 with 1 Axes>"
      ]
     },
     "metadata": {
      "needs_background": "light"
     },
     "output_type": "display_data"
    }
   ],
   "source": [
    "sns.boxplot(df['Percentage_of_Attendence'])"
   ]
  },
  {
   "cell_type": "code",
   "execution_count": 49,
   "id": "3406d559",
   "metadata": {},
   "outputs": [],
   "source": [
    "# we have Outliers in 'Age' , 'TotalWork_Experience' , 'TrainingTime__months' , 'Annual_income_LPA' ."
   ]
  },
  {
   "cell_type": "code",
   "execution_count": 50,
   "id": "8d753e9e",
   "metadata": {},
   "outputs": [
    {
     "data": {
      "text/plain": [
       "<AxesSubplot:xlabel='Age'>"
      ]
     },
     "execution_count": 50,
     "metadata": {},
     "output_type": "execute_result"
    },
    {
     "data": {
      "image/png": "[encoded data removed]",
      "text/plain": [
       "<Figure size 432x288 with 1 Axes>"
      ]
     },
     "metadata": {
      "needs_background": "light"
     },
     "output_type": "display_data"
    }
   ],
   "source": [
    "IQR = df['Age'].quantile(0.75) - df['Age'].quantile(0.25)\n",
    "lower_limit = df['Age'].quantile(0.25) - (IQR * 1.5)\n",
    "upper_limit = df['Age'].quantile(0.75) + (IQR * 1.5)\n",
    "df['Age'] = pd.DataFrame(np.where(df['Age'] > upper_limit, upper_limit, np.where(df['Age'] < lower_limit, lower_limit, df['Age'])))\n",
    "sns.boxplot(df.Age)"
   ]
  },
  {
   "cell_type": "code",
   "execution_count": 51,
   "id": "375c9476",
   "metadata": {},
   "outputs": [
    {
     "data": {
      "text/plain": [
       "<AxesSubplot:xlabel='Training_Time_in_months'>"
      ]
     },
     "execution_count": 51,
     "metadata": {},
     "output_type": "execute_result"
    },
    {
     "data": {
      "image/png": "[encoded data removed]",
      "text/plain": [
       "<Figure size 432x288 with 1 Axes>"
      ]
     },
     "metadata": {
      "needs_background": "light"
     },
     "output_type": "display_data"
    }
   ],
   "source": [
    "IQR = df['Training_Time_in_months'].quantile(0.75) - df['Training_Time_in_months'].quantile(0.25)\n",
    "lower_limit = df['Training_Time_in_months'].quantile(0.25) - (IQR * 1.5)\n",
    "upper_limit = df['Training_Time_in_months'].quantile(0.75) + (IQR * 1.5)\n",
    "df['Training_Time_in_months'] = pd.DataFrame(np.where(df['Training_Time_in_months'] > upper_limit, upper_limit, np.where(df['Training_Time_in_months'] < lower_limit, lower_limit, df['Training_Time_in_months'])))\n",
    "sns.boxplot(df.Training_Time_in_months)"
   ]
  },
  {
   "cell_type": "code",
   "execution_count": 52,
   "id": "ee8c9e30",
   "metadata": {},
   "outputs": [
    {
     "data": {
      "text/plain": [
       "<AxesSubplot:xlabel='years_of_experience'>"
      ]
     },
     "execution_count": 52,
     "metadata": {},
     "output_type": "execute_result"
    },
    {
     "data": {
      "image/png": "[encoded data removed]",
      "text/plain": [
       "<Figure size 432x288 with 1 Axes>"
      ]
     },
     "metadata": {
      "needs_background": "light"
     },
     "output_type": "display_data"
    }
   ],
   "source": [
    "IQR = df['years_of_experience'].quantile(0.75) - df['years_of_experience'].quantile(0.25)\n",
    "lower_limit = df['years_of_experience'].quantile(0.25) - (IQR * 1.5)\n",
    "upper_limit = df['years_of_experience'].quantile(0.75) + (IQR * 1.5)\n",
    "df['years_of_experience'] = pd.DataFrame(np.where(df['years_of_experience'] > upper_limit, upper_limit, np.where(df['years_of_experience'] < lower_limit, lower_limit, df['years_of_experience'])))\n",
    "sns.boxplot(df.years_of_experience)"
   ]
  },
  {
   "cell_type": "code",
   "execution_count": 53,
   "id": "871fdc6f",
   "metadata": {},
   "outputs": [
    {
     "data": {
      "text/plain": [
       "<AxesSubplot:xlabel='Annual_Income_in_lacs'>"
      ]
     },
     "execution_count": 53,
     "metadata": {},
     "output_type": "execute_result"
    },
    {
     "data": {
      "image/png": "[encoded data removed]",
      "text/plain": [
       "<Figure size 432x288 with 1 Axes>"
      ]
     },
     "metadata": {
      "needs_background": "light"
     },
     "output_type": "display_data"
    }
   ],
   "source": [
    "IQR = df['Annual_Income_in_lacs'].quantile(0.75) - df['Annual_Income_in_lacs'].quantile(0.25)\n",
    "lower_limit = df['Annual_Income_in_lacs'].quantile(0.25) - (IQR * 1.5)\n",
    "upper_limit = df['Annual_Income_in_lacs'].quantile(0.75) + (IQR * 1.5)\n",
    "df['Annual_Income_in_lacs'] = pd.DataFrame(np.where(df['Annual_Income_in_lacs'] > upper_limit, upper_limit, np.where(df['Annual_Income_in_lacs'] < lower_limit, lower_limit, df['Annual_Income_in_lacs'])))\n",
    "sns.boxplot(df.Annual_Income_in_lacs)"
   ]
  },
  {
   "cell_type": "code",
   "execution_count": 54,
   "id": "bf749cdc",
   "metadata": {},
   "outputs": [
    {
     "data": {
      "text/plain": [
       "<AxesSubplot:>"
      ]
     },
     "execution_count": 54,
     "metadata": {},
     "output_type": "execute_result"
    },
    {
     "data": {
      "image/png": "[encoded data removed]",
      "text/plain": [
       "<Figure size 432x288 with 1 Axes>"
      ]
     },
     "metadata": {
      "needs_background": "light"
     },
     "output_type": "display_data"
    }
   ],
   "source": [
    "df['Gender'].value_counts().plot.bar(color=['blue','green'])"
   ]
  },
  {
   "cell_type": "code",
   "execution_count": 55,
   "id": "8ef4fedf",
   "metadata": {},
   "outputs": [
    {
     "data": {
      "text/plain": [
       "<AxesSubplot:>"
      ]
     },
     "execution_count": 55,
     "metadata": {},
     "output_type": "execute_result"
    },
    {
     "data": {
      "image/png": "[encoded data removed]",
      "text/plain": [
       "<Figure size 432x288 with 1 Axes>"
      ]
     },
     "metadata": {
      "needs_background": "light"
     },
     "output_type": "display_data"
    }
   ],
   "source": [
    "df['MaritalStatus'].value_counts().plot.bar(color=['green','purple','red'])"
   ]
  },
  {
   "cell_type": "code",
   "execution_count": 56,
   "id": "fb85bd5b",
   "metadata": {},
   "outputs": [
    {
     "data": {
      "text/plain": [
       "<AxesSubplot:>"
      ]
     },
     "execution_count": 56,
     "metadata": {},
     "output_type": "execute_result"
    },
    {
     "data": {
      "image/png": "[encoded data removed]",
      "text/plain": [
       "<Figure size 432x288 with 1 Axes>"
      ]
     },
     "metadata": {
      "needs_background": "light"
     },
     "output_type": "display_data"
    }
   ],
   "source": [
    "df['Department'].value_counts().plot.bar(color=['black','red','green','blue','cyan','brown','magenta'])"
   ]
  },
  {
   "cell_type": "code",
   "execution_count": 57,
   "id": "22d52cde",
   "metadata": {},
   "outputs": [
    {
     "data": {
      "text/plain": [
       "<AxesSubplot:>"
      ]
     },
     "execution_count": 57,
     "metadata": {},
     "output_type": "execute_result"
    },
    {
     "data": {
      "image/png": "[encoded data removed]",
      "text/plain": [
       "<Figure size 1440x576 with 1 Axes>"
      ]
     },
     "metadata": {
      "needs_background": "light"
     },
     "output_type": "display_data"
    }
   ],
   "source": [
    "import matplotlib.pyplot as plt\n",
    "plt.rcParams[\"figure.figsize\"] = (20,8)\n",
    "df['Job_role'].value_counts().plot.bar(color=['black','red','green','blue','cyan','brown','magenta'])"
   ]
  },
  {
   "cell_type": "code",
   "execution_count": 58,
   "id": "588a6d92",
   "metadata": {},
   "outputs": [
    {
     "data": {
      "text/plain": [
       "<AxesSubplot:>"
      ]
     },
     "execution_count": 58,
     "metadata": {},
     "output_type": "execute_result"
    },
    {
     "data": {
      "image/png": "[encoded data removed]",
      "text/plain": [
       "<Figure size 576x396 with 1 Axes>"
      ]
     },
     "metadata": {
      "needs_background": "light"
     },
     "output_type": "display_data"
    }
   ],
   "source": [
    "import matplotlib.pyplot as plt\n",
    "plt.rcParams[\"figure.figsize\"] = (8,5.5)\n",
    "df['Work_Environment_Satisfaction_Level'].value_counts().plot.bar(color=['blue','purple','violet','cyan'])"
   ]
  },
  {
   "cell_type": "code",
   "execution_count": 59,
   "id": "33e9dfab",
   "metadata": {},
   "outputs": [
    {
     "data": {
      "text/plain": [
       "<AxesSubplot:>"
      ]
     },
     "execution_count": 59,
     "metadata": {},
     "output_type": "execute_result"
    },
    {
     "data": {
      "image/png": "[encoded data removed]",
      "text/plain": [
       "<Figure size 576x396 with 1 Axes>"
      ]
     },
     "metadata": {
      "needs_background": "light"
     },
     "output_type": "display_data"
    }
   ],
   "source": [
    "df['JobInvolvement'].value_counts().plot.bar(color=['blue','purple','violet','cyan'])"
   ]
  },
  {
   "cell_type": "code",
   "execution_count": 60,
   "id": "f300572c",
   "metadata": {},
   "outputs": [
    {
     "data": {
      "text/plain": [
       "<AxesSubplot:>"
      ]
     },
     "execution_count": 60,
     "metadata": {},
     "output_type": "execute_result"
    },
    {
     "data": {
      "image/png": "[encoded data removed]",
      "text/plain": [
       "<Figure size 576x396 with 1 Axes>"
      ]
     },
     "metadata": {
      "needs_background": "light"
     },
     "output_type": "display_data"
    }
   ],
   "source": [
    "df['JobLevel'].value_counts().plot.bar(color=['blue','purple','violet','cyan'])"
   ]
  },
  {
   "cell_type": "code",
   "execution_count": 61,
   "id": "f24d2645",
   "metadata": {},
   "outputs": [
    {
     "data": {
      "text/plain": [
       "<AxesSubplot:>"
      ]
     },
     "execution_count": 61,
     "metadata": {},
     "output_type": "execute_result"
    },
    {
     "data": {
      "image/png": "[encoded data removed]",
      "text/plain": [
       "<Figure size 576x396 with 1 Axes>"
      ]
     },
     "metadata": {
      "needs_background": "light"
     },
     "output_type": "display_data"
    }
   ],
   "source": [
    "df['JobSatisfaction'].value_counts().plot.bar(color=['blue','purple','violet','cyan'])"
   ]
  },
  {
   "cell_type": "code",
   "execution_count": 62,
   "id": "405f515f",
   "metadata": {},
   "outputs": [],
   "source": [
    "def onehot_encode(df,columns):\n",
    "    df=df.copy()\n",
    "    dummies=pd.get_dummies(df[columns],prefix=columns)\n",
    "    df=pd.concat([df,dummies],axis=1)\n",
    "    df=df.drop(columns,axis=1)\n",
    "    return df"
   ]
  },
  {
   "cell_type": "code",
   "execution_count": 63,
   "id": "a34b41a6",
   "metadata": {},
   "outputs": [
    {
     "name": "stdout",
     "output_type": "stream",
     "text": [
      "Gender ['Male' 'Female']\n",
      "MaritalStatus ['Single' 'Married' 'Divorced']\n",
      "Department ['Computers_and_information_technology' 'Finance' 'Human_Resource'\n",
      " 'Customer_service' 'Digital_Marketing' 'Research_and_Development'\n",
      " 'Management' 'Quality_assurance']\n",
      "Job_role ['Database_administrator' 'Loan_officer' 'HR_manager'\n",
      " 'Recruiting_and_Staffing' 'Financial_adviser' 'Actuary'\n",
      " 'Customer_service_representative' 'Network_administrator'\n",
      " 'Marketing_assistant' 'Fianancial_manager' 'Customer_support_engineer'\n",
      " 'R&D_engineer' 'Product_marketing' 'Marketing_Manager'\n",
      " 'Digital_marketing_coordinator' 'Compensation_and_Benefits'\n",
      " 'Data_scientist' 'Budget_analyst' 'Quality_coordinator' 'Finance_analyst'\n",
      " 'R&D_scientist' 'Talent_Management' 'Customer_service_supervisor'\n",
      " 'Full_stack_developer' 'R&D_Manager' 'Quality_control_supervisor'\n",
      " 'Content_marketer' 'Computer_Information_Systems_Manager'\n",
      " 'Quality_analyst' 'Safety_and_Compliance' 'Training_and_Development'\n",
      " 'Accoutant' 'Business_Development' 'Administrative_Services_Manager'\n",
      " 'Strategic_Planner' 'Quality_auditor' 'R&D_analyst'\n",
      " 'Customer_service_manager' 'Senior_software_engineer'\n",
      " 'Quality_technician' 'Financial_manager'\n",
      " 'Social_media_marketing_coordinator' 'Sales_manager' 'Marketing_analyst'\n",
      " 'Software_application_packager' 'Quality_engineer' 'Systems_analyst'\n",
      " 'Quality_assurance_manager' 'Quality_assurance_tester'\n",
      " 'Marketing_executive']\n",
      "Education_level ['Bachelor' 'Master' 'Doctor' 'Below_PUC' 'PUC']\n",
      "Work_Environment_Satisfaction_Level ['High' 'Very_High' 'Low' 'Medium']\n",
      "JobInvolvement ['High' 'Very_High' 'Medium' 'Low']\n",
      "JobSatisfaction ['Very_High' 'High' 'Low' 'Medium']\n",
      "RelationshipSatisfaction ['Low' 'Very_High' 'High' 'Medium']\n",
      "Work_Life_Balance ['Better' 'Best' 'Bad' 'Good']\n",
      "Behaviourial_Competence ['Very_good' 'Good' 'Excellent' 'Poor' 'Satisfactory' 'In_adequate']\n",
      "On_Time_Delivery ['Excellent' 'good' 'Good' 'satistfactory' 'fair' 'Poor']\n",
      "Ticket_Solving_Management ['Excellent' 'Good' 'fair' 'Poor' 'Satisfactory']\n",
      "Working_Status ['WFH' 'WFO']\n",
      "Psycho_social_indicators ['Very_good' 'Excellent' 'Good' 'In_adequate' 'Satisfactory' 'Poor']\n",
      "Feedback ['Outstanding' 'Very_good' 'Good' 'Poor' 'Satisfactory' 'Not_bad']\n",
      "Performance_Rating ['Outstanding' 'Excellent' 'Good' 'Low']\n"
     ]
    }
   ],
   "source": [
    "columns=['Gender','MaritalStatus','Department','Job_role',\n",
    "'Education_level',\n",
    "'Work_Environment_Satisfaction_Level',\n",
    "'JobInvolvement',\n",
    "'JobSatisfaction',\n",
    "'RelationshipSatisfaction',\n",
    "'Work_Life_Balance',\n",
    "'Behaviourial_Competence',\n",
    "'On_Time_Delivery',\n",
    "'Ticket_Solving_Management',\n",
    "'Working_Status',\n",
    "'Psycho_social_indicators',\n",
    "'Feedback','Performance_Rating']\n",
    "for i in columns:\n",
    "    print(i,df[i].unique())"
   ]
  },
  {
   "cell_type": "code",
   "execution_count": 64,
   "id": "23a9f2fc",
   "metadata": {},
   "outputs": [
    {
     "data": {
      "image/png": "[encoded data removed]",
      "text/plain": [
       "<Figure size 576x396 with 2 Axes>"
      ]
     },
     "metadata": {
      "needs_background": "light"
     },
     "output_type": "display_data"
    }
   ],
   "source": [
    "# drop single value columns and id values\n",
    "df=df.drop(['Employee_ID'],axis=1)\n",
    "#correlation matrix\n",
    "sns.heatmap(df.corr(), annot=True)\n",
    "#Binary encoding for having only two values \n",
    "df['Gender']=df['Gender'].replace({'Female':0,'Male':1})\n",
    "\n",
    "#Ordinal Encoding for having more than two values\n",
    "df['Education_level']=df['Education_level'].replace({'Bachelor':2, 'Master':3, 'Doctor':4, 'Below_PUC':0, 'PUC':1})\n",
    "df['Work_Environment_Satisfaction_Level']=df['Work_Environment_Satisfaction_Level'].replace({'High':2, 'Very_High':3, 'Low':0, 'Medium':1})\n",
    "df['JobInvolvement']=df['JobInvolvement'].replace({'High':2, 'Very_High':3, 'Low':0, 'Medium':1})\n",
    "df['JobSatisfaction']=df['JobSatisfaction'].replace({'High':2, 'Very_High':3, 'Low':0, 'Medium':1})\n",
    "df['RelationshipSatisfaction']=df['RelationshipSatisfaction'].replace({'High':2, 'Very_High':3, 'Low':0, 'Medium':1})\n",
    "df['Behaviourial_Competence']=df['Behaviourial_Competence'].replace({'Very_good':4, 'Good':3, 'Excellent':5, 'Poor':0, 'Satisfactory':2, 'In_adequate':1})\n",
    "df['Psycho_social_indicators']=df['Psycho_social_indicators'].replace({'Very_good':4, 'Good':3, 'Excellent':5, 'Poor':0, 'Satisfactory':2, 'In_adequate':1})\n",
    "df['Work_Life_Balance']=df['Work_Life_Balance'].replace({'Better':2, 'Best':3, 'Bad':0, 'Good':1})\n",
    "df['On_Time_Delivery']=df['On_Time_Delivery'].replace({'Excellent':4, 'good':3, 'Good':3, 'satistfactory':2, 'fair':1, 'Poor':0})\n",
    "df['Ticket_Solving_Management']=df['Ticket_Solving_Management'].replace({'Excellent':4,'Good':3, 'Satisfactory':2, 'fair':1, 'Poor':0})\n",
    "df['Feedback']=df['Feedback'].replace({'Outstanding':5, 'Very_good':4, 'Good':3, 'Poor':0, 'Satisfactory':2, 'Not_bad':1})\n",
    "df['Performance_Rating']=df['Performance_Rating'].replace({'Outstanding':3, 'Excellent':2, 'Good':1, 'Low':0})\n",
    "\n",
    "#One-Hot encoding\n",
    "ohe = ['Department','Job_role','MaritalStatus','Working_Status']\n",
    "df = pd.get_dummies(df, columns=ohe)"
   ]
  },
  {
   "cell_type": "code",
   "execution_count": 65,
   "id": "94af1dfa",
   "metadata": {},
   "outputs": [
    {
     "data": {
      "text/plain": [
       "Age                                    float64\n",
       "years_of_experience                    float64\n",
       "Gender                                   int64\n",
       "Education_level                          int64\n",
       "Work_Environment_Satisfaction_Level      int64\n",
       "                                        ...   \n",
       "MaritalStatus_Divorced                   uint8\n",
       "MaritalStatus_Married                    uint8\n",
       "MaritalStatus_Single                     uint8\n",
       "Working_Status_WFH                       uint8\n",
       "Working_Status_WFO                       uint8\n",
       "Length: 88, dtype: object"
      ]
     },
     "execution_count": 65,
     "metadata": {},
     "output_type": "execute_result"
    }
   ],
   "source": [
    "df.dtypes"
   ]
  },
  {
   "cell_type": "code",
   "execution_count": 66,
   "id": "f9df3a25",
   "metadata": {},
   "outputs": [
    {
     "data": {
      "text/html": [
       "<div>\n",
       "<style scoped>\n",
       "    .dataframe tbody tr th:only-of-type {\n",
       "        vertical-align: middle;\n",
       "    }\n",
       "\n",
       "    .dataframe tbody tr th {\n",
       "        vertical-align: top;\n",
       "    }\n",
       "\n",
       "    .dataframe thead th {\n",
       "        text-align: right;\n",
       "    }\n",
       "</style>\n",
       "<table border=\"1\" class=\"dataframe\">\n",
       "  <thead>\n",
       "    <tr style=\"text-align: right;\">\n",
       "      <th></th>\n",
       "      <th>Age</th>\n",
       "      <th>years_of_experience</th>\n",
       "      <th>Gender</th>\n",
       "      <th>Education_level</th>\n",
       "      <th>Work_Environment_Satisfaction_Level</th>\n",
       "      <th>JobInvolvement</th>\n",
       "      <th>JobLevel</th>\n",
       "      <th>JobSatisfaction</th>\n",
       "      <th>Annual_Income_in_lacs</th>\n",
       "      <th>RelationshipSatisfaction</th>\n",
       "      <th>...</th>\n",
       "      <th>Job_role_Software_application_packager</th>\n",
       "      <th>Job_role_Strategic_Planner</th>\n",
       "      <th>Job_role_Systems_analyst</th>\n",
       "      <th>Job_role_Talent_Management</th>\n",
       "      <th>Job_role_Training_and_Development</th>\n",
       "      <th>MaritalStatus_Divorced</th>\n",
       "      <th>MaritalStatus_Married</th>\n",
       "      <th>MaritalStatus_Single</th>\n",
       "      <th>Working_Status_WFH</th>\n",
       "      <th>Working_Status_WFO</th>\n",
       "    </tr>\n",
       "  </thead>\n",
       "  <tbody>\n",
       "    <tr>\n",
       "      <th>0</th>\n",
       "      <td>51.000000</td>\n",
       "      <td>26.0</td>\n",
       "      <td>1</td>\n",
       "      <td>2</td>\n",
       "      <td>2</td>\n",
       "      <td>2</td>\n",
       "      <td>4</td>\n",
       "      <td>3</td>\n",
       "      <td>17.054416</td>\n",
       "      <td>0</td>\n",
       "      <td>...</td>\n",
       "      <td>0</td>\n",
       "      <td>0</td>\n",
       "      <td>0</td>\n",
       "      <td>0</td>\n",
       "      <td>0</td>\n",
       "      <td>0</td>\n",
       "      <td>0</td>\n",
       "      <td>1</td>\n",
       "      <td>1</td>\n",
       "      <td>0</td>\n",
       "    </tr>\n",
       "    <tr>\n",
       "      <th>1</th>\n",
       "      <td>24.000000</td>\n",
       "      <td>2.0</td>\n",
       "      <td>0</td>\n",
       "      <td>2</td>\n",
       "      <td>2</td>\n",
       "      <td>3</td>\n",
       "      <td>1</td>\n",
       "      <td>2</td>\n",
       "      <td>6.000000</td>\n",
       "      <td>0</td>\n",
       "      <td>...</td>\n",
       "      <td>0</td>\n",
       "      <td>0</td>\n",
       "      <td>0</td>\n",
       "      <td>0</td>\n",
       "      <td>0</td>\n",
       "      <td>0</td>\n",
       "      <td>0</td>\n",
       "      <td>1</td>\n",
       "      <td>1</td>\n",
       "      <td>0</td>\n",
       "    </tr>\n",
       "    <tr>\n",
       "      <th>2</th>\n",
       "      <td>20.000000</td>\n",
       "      <td>1.0</td>\n",
       "      <td>1</td>\n",
       "      <td>2</td>\n",
       "      <td>3</td>\n",
       "      <td>2</td>\n",
       "      <td>1</td>\n",
       "      <td>2</td>\n",
       "      <td>5.000000</td>\n",
       "      <td>0</td>\n",
       "      <td>...</td>\n",
       "      <td>0</td>\n",
       "      <td>0</td>\n",
       "      <td>0</td>\n",
       "      <td>0</td>\n",
       "      <td>0</td>\n",
       "      <td>0</td>\n",
       "      <td>0</td>\n",
       "      <td>1</td>\n",
       "      <td>0</td>\n",
       "      <td>1</td>\n",
       "    </tr>\n",
       "    <tr>\n",
       "      <th>3</th>\n",
       "      <td>29.000000</td>\n",
       "      <td>3.0</td>\n",
       "      <td>0</td>\n",
       "      <td>3</td>\n",
       "      <td>3</td>\n",
       "      <td>3</td>\n",
       "      <td>2</td>\n",
       "      <td>2</td>\n",
       "      <td>6.000000</td>\n",
       "      <td>3</td>\n",
       "      <td>...</td>\n",
       "      <td>0</td>\n",
       "      <td>0</td>\n",
       "      <td>0</td>\n",
       "      <td>0</td>\n",
       "      <td>0</td>\n",
       "      <td>0</td>\n",
       "      <td>1</td>\n",
       "      <td>0</td>\n",
       "      <td>0</td>\n",
       "      <td>1</td>\n",
       "    </tr>\n",
       "    <tr>\n",
       "      <th>4</th>\n",
       "      <td>28.000000</td>\n",
       "      <td>4.0</td>\n",
       "      <td>1</td>\n",
       "      <td>3</td>\n",
       "      <td>2</td>\n",
       "      <td>1</td>\n",
       "      <td>1</td>\n",
       "      <td>2</td>\n",
       "      <td>8.000000</td>\n",
       "      <td>3</td>\n",
       "      <td>...</td>\n",
       "      <td>0</td>\n",
       "      <td>0</td>\n",
       "      <td>0</td>\n",
       "      <td>0</td>\n",
       "      <td>0</td>\n",
       "      <td>0</td>\n",
       "      <td>0</td>\n",
       "      <td>1</td>\n",
       "      <td>1</td>\n",
       "      <td>0</td>\n",
       "    </tr>\n",
       "    <tr>\n",
       "      <th>...</th>\n",
       "      <td>...</td>\n",
       "      <td>...</td>\n",
       "      <td>...</td>\n",
       "      <td>...</td>\n",
       "      <td>...</td>\n",
       "      <td>...</td>\n",
       "      <td>...</td>\n",
       "      <td>...</td>\n",
       "      <td>...</td>\n",
       "      <td>...</td>\n",
       "      <td>...</td>\n",
       "      <td>...</td>\n",
       "      <td>...</td>\n",
       "      <td>...</td>\n",
       "      <td>...</td>\n",
       "      <td>...</td>\n",
       "      <td>...</td>\n",
       "      <td>...</td>\n",
       "      <td>...</td>\n",
       "      <td>...</td>\n",
       "      <td>...</td>\n",
       "    </tr>\n",
       "    <tr>\n",
       "      <th>5495</th>\n",
       "      <td>40.000000</td>\n",
       "      <td>15.0</td>\n",
       "      <td>0</td>\n",
       "      <td>2</td>\n",
       "      <td>1</td>\n",
       "      <td>2</td>\n",
       "      <td>3</td>\n",
       "      <td>2</td>\n",
       "      <td>19.000000</td>\n",
       "      <td>0</td>\n",
       "      <td>...</td>\n",
       "      <td>0</td>\n",
       "      <td>0</td>\n",
       "      <td>0</td>\n",
       "      <td>0</td>\n",
       "      <td>0</td>\n",
       "      <td>0</td>\n",
       "      <td>1</td>\n",
       "      <td>0</td>\n",
       "      <td>0</td>\n",
       "      <td>1</td>\n",
       "    </tr>\n",
       "    <tr>\n",
       "      <th>5496</th>\n",
       "      <td>30.000000</td>\n",
       "      <td>5.0</td>\n",
       "      <td>1</td>\n",
       "      <td>2</td>\n",
       "      <td>3</td>\n",
       "      <td>3</td>\n",
       "      <td>2</td>\n",
       "      <td>3</td>\n",
       "      <td>9.000000</td>\n",
       "      <td>3</td>\n",
       "      <td>...</td>\n",
       "      <td>0</td>\n",
       "      <td>0</td>\n",
       "      <td>0</td>\n",
       "      <td>0</td>\n",
       "      <td>0</td>\n",
       "      <td>0</td>\n",
       "      <td>1</td>\n",
       "      <td>0</td>\n",
       "      <td>0</td>\n",
       "      <td>1</td>\n",
       "    </tr>\n",
       "    <tr>\n",
       "      <th>5497</th>\n",
       "      <td>26.000000</td>\n",
       "      <td>2.0</td>\n",
       "      <td>0</td>\n",
       "      <td>2</td>\n",
       "      <td>0</td>\n",
       "      <td>0</td>\n",
       "      <td>1</td>\n",
       "      <td>0</td>\n",
       "      <td>6.000000</td>\n",
       "      <td>0</td>\n",
       "      <td>...</td>\n",
       "      <td>0</td>\n",
       "      <td>0</td>\n",
       "      <td>0</td>\n",
       "      <td>0</td>\n",
       "      <td>0</td>\n",
       "      <td>0</td>\n",
       "      <td>1</td>\n",
       "      <td>0</td>\n",
       "      <td>0</td>\n",
       "      <td>1</td>\n",
       "    </tr>\n",
       "    <tr>\n",
       "      <th>5498</th>\n",
       "      <td>44.000000</td>\n",
       "      <td>21.0</td>\n",
       "      <td>0</td>\n",
       "      <td>2</td>\n",
       "      <td>2</td>\n",
       "      <td>2</td>\n",
       "      <td>3</td>\n",
       "      <td>1</td>\n",
       "      <td>24.000000</td>\n",
       "      <td>2</td>\n",
       "      <td>...</td>\n",
       "      <td>0</td>\n",
       "      <td>0</td>\n",
       "      <td>0</td>\n",
       "      <td>0</td>\n",
       "      <td>0</td>\n",
       "      <td>0</td>\n",
       "      <td>1</td>\n",
       "      <td>0</td>\n",
       "      <td>1</td>\n",
       "      <td>0</td>\n",
       "    </tr>\n",
       "    <tr>\n",
       "      <th>5499</th>\n",
       "      <td>40.919743</td>\n",
       "      <td>19.0</td>\n",
       "      <td>0</td>\n",
       "      <td>2</td>\n",
       "      <td>0</td>\n",
       "      <td>0</td>\n",
       "      <td>3</td>\n",
       "      <td>0</td>\n",
       "      <td>21.000000</td>\n",
       "      <td>2</td>\n",
       "      <td>...</td>\n",
       "      <td>0</td>\n",
       "      <td>0</td>\n",
       "      <td>0</td>\n",
       "      <td>0</td>\n",
       "      <td>0</td>\n",
       "      <td>0</td>\n",
       "      <td>1</td>\n",
       "      <td>0</td>\n",
       "      <td>0</td>\n",
       "      <td>1</td>\n",
       "    </tr>\n",
       "  </tbody>\n",
       "</table>\n",
       "<p>5500 rows × 88 columns</p>\n",
       "</div>"
      ],
      "text/plain": [
       "            Age  years_of_experience  Gender  Education_level  \\\n",
       "0     51.000000                 26.0       1                2   \n",
       "1     24.000000                  2.0       0                2   \n",
       "2     20.000000                  1.0       1                2   \n",
       "3     29.000000                  3.0       0                3   \n",
       "4     28.000000                  4.0       1                3   \n",
       "...         ...                  ...     ...              ...   \n",
       "5495  40.000000                 15.0       0                2   \n",
       "5496  30.000000                  5.0       1                2   \n",
       "5497  26.000000                  2.0       0                2   \n",
       "5498  44.000000                 21.0       0                2   \n",
       "5499  40.919743                 19.0       0                2   \n",
       "\n",
       "      Work_Environment_Satisfaction_Level  JobInvolvement  JobLevel  \\\n",
       "0                                       2               2         4   \n",
       "1                                       2               3         1   \n",
       "2                                       3               2         1   \n",
       "3                                       3               3         2   \n",
       "4                                       2               1         1   \n",
       "...                                   ...             ...       ...   \n",
       "5495                                    1               2         3   \n",
       "5496                                    3               3         2   \n",
       "5497                                    0               0         1   \n",
       "5498                                    2               2         3   \n",
       "5499                                    0               0         3   \n",
       "\n",
       "      JobSatisfaction  Annual_Income_in_lacs  RelationshipSatisfaction  ...  \\\n",
       "0                   3              17.054416                         0  ...   \n",
       "1                   2               6.000000                         0  ...   \n",
       "2                   2               5.000000                         0  ...   \n",
       "3                   2               6.000000                         3  ...   \n",
       "4                   2               8.000000                         3  ...   \n",
       "...               ...                    ...                       ...  ...   \n",
       "5495                2              19.000000                         0  ...   \n",
       "5496                3               9.000000                         3  ...   \n",
       "5497                0               6.000000                         0  ...   \n",
       "5498                1              24.000000                         2  ...   \n",
       "5499                0              21.000000                         2  ...   \n",
       "\n",
       "      Job_role_Software_application_packager  Job_role_Strategic_Planner  \\\n",
       "0                                          0                           0   \n",
       "1                                          0                           0   \n",
       "2                                          0                           0   \n",
       "3                                          0                           0   \n",
       "4                                          0                           0   \n",
       "...                                      ...                         ...   \n",
       "5495                                       0                           0   \n",
       "5496                                       0                           0   \n",
       "5497                                       0                           0   \n",
       "5498                                       0                           0   \n",
       "5499                                       0                           0   \n",
       "\n",
       "      Job_role_Systems_analyst  Job_role_Talent_Management  \\\n",
       "0                            0                           0   \n",
       "1                            0                           0   \n",
       "2                            0                           0   \n",
       "3                            0                           0   \n",
       "4                            0                           0   \n",
       "...                        ...                         ...   \n",
       "5495                         0                           0   \n",
       "5496                         0                           0   \n",
       "5497                         0                           0   \n",
       "5498                         0                           0   \n",
       "5499                         0                           0   \n",
       "\n",
       "      Job_role_Training_and_Development  MaritalStatus_Divorced  \\\n",
       "0                                     0                       0   \n",
       "1                                     0                       0   \n",
       "2                                     0                       0   \n",
       "3                                     0                       0   \n",
       "4                                     0                       0   \n",
       "...                                 ...                     ...   \n",
       "5495                                  0                       0   \n",
       "5496                                  0                       0   \n",
       "5497                                  0                       0   \n",
       "5498                                  0                       0   \n",
       "5499                                  0                       0   \n",
       "\n",
       "      MaritalStatus_Married  MaritalStatus_Single  Working_Status_WFH  \\\n",
       "0                         0                     1                   1   \n",
       "1                         0                     1                   1   \n",
       "2                         0                     1                   0   \n",
       "3                         1                     0                   0   \n",
       "4                         0                     1                   1   \n",
       "...                     ...                   ...                 ...   \n",
       "5495                      1                     0                   0   \n",
       "5496                      1                     0                   0   \n",
       "5497                      1                     0                   0   \n",
       "5498                      1                     0                   1   \n",
       "5499                      1                     0                   0   \n",
       "\n",
       "      Working_Status_WFO  \n",
       "0                      0  \n",
       "1                      0  \n",
       "2                      1  \n",
       "3                      1  \n",
       "4                      0  \n",
       "...                  ...  \n",
       "5495                   1  \n",
       "5496                   1  \n",
       "5497                   1  \n",
       "5498                   0  \n",
       "5499                   1  \n",
       "\n",
       "[5500 rows x 88 columns]"
      ]
     },
     "execution_count": 66,
     "metadata": {},
     "output_type": "execute_result"
    }
   ],
   "source": [
    "df"
   ]
  },
  {
   "cell_type": "code",
   "execution_count": 67,
   "id": "a6125c29",
   "metadata": {},
   "outputs": [],
   "source": [
    "#split df into X and Y\n",
    "y=df['Performance_Rating']\n",
    "x=df.drop('Performance_Rating',axis=1)\n",
    "\n",
    "#split the data into training and testing sets\n",
    "x_train,x_test,y_train,y_test=train_test_split(x,y,train_size=0.8,shuffle=True,random_state=1)\n",
    "    \n",
    "#scale x\n",
    "scaler=StandardScaler()\n",
    "scaler.fit(x_test)\n",
    "x_train=pd.DataFrame(scaler.fit_transform(x_train),index=x_train.index,columns=x_train.columns)\n",
    "x_test=pd.DataFrame(scaler.transform(x_test),index=x_test.index,columns=x_test.columns)"
   ]
  },
  {
   "cell_type": "code",
   "execution_count": 68,
   "id": "13408fd8",
   "metadata": {},
   "outputs": [
    {
     "name": "stdout",
     "output_type": "stream",
     "text": [
      "(5500, 87) (4400, 87) (1100, 87)\n"
     ]
    }
   ],
   "source": [
    "print(x.shape, x_train.shape, x_test.shape)"
   ]
  },
  {
   "cell_type": "code",
   "execution_count": 69,
   "id": "0a863a39",
   "metadata": {},
   "outputs": [
    {
     "data": {
      "text/html": [
       "<div>\n",
       "<style scoped>\n",
       "    .dataframe tbody tr th:only-of-type {\n",
       "        vertical-align: middle;\n",
       "    }\n",
       "\n",
       "    .dataframe tbody tr th {\n",
       "        vertical-align: top;\n",
       "    }\n",
       "\n",
       "    .dataframe thead th {\n",
       "        text-align: right;\n",
       "    }\n",
       "</style>\n",
       "<table border=\"1\" class=\"dataframe\">\n",
       "  <thead>\n",
       "    <tr style=\"text-align: right;\">\n",
       "      <th></th>\n",
       "      <th>Age</th>\n",
       "      <th>years_of_experience</th>\n",
       "      <th>Gender</th>\n",
       "      <th>Education_level</th>\n",
       "      <th>Work_Environment_Satisfaction_Level</th>\n",
       "      <th>JobInvolvement</th>\n",
       "      <th>JobLevel</th>\n",
       "      <th>JobSatisfaction</th>\n",
       "      <th>Annual_Income_in_lacs</th>\n",
       "      <th>RelationshipSatisfaction</th>\n",
       "      <th>...</th>\n",
       "      <th>Job_role_Software_application_packager</th>\n",
       "      <th>Job_role_Strategic_Planner</th>\n",
       "      <th>Job_role_Systems_analyst</th>\n",
       "      <th>Job_role_Talent_Management</th>\n",
       "      <th>Job_role_Training_and_Development</th>\n",
       "      <th>MaritalStatus_Divorced</th>\n",
       "      <th>MaritalStatus_Married</th>\n",
       "      <th>MaritalStatus_Single</th>\n",
       "      <th>Working_Status_WFH</th>\n",
       "      <th>Working_Status_WFO</th>\n",
       "    </tr>\n",
       "  </thead>\n",
       "  <tbody>\n",
       "    <tr>\n",
       "      <th>3332</th>\n",
       "      <td>0.073284</td>\n",
       "      <td>0.111817</td>\n",
       "      <td>1.018350</td>\n",
       "      <td>1.519932</td>\n",
       "      <td>0.253075</td>\n",
       "      <td>1.222237</td>\n",
       "      <td>0.042914</td>\n",
       "      <td>1.178506</td>\n",
       "      <td>0.563372</td>\n",
       "      <td>1.336905</td>\n",
       "      <td>...</td>\n",
       "      <td>-0.187218</td>\n",
       "      <td>-0.161615</td>\n",
       "      <td>-0.154823</td>\n",
       "      <td>-0.171699</td>\n",
       "      <td>-0.144505</td>\n",
       "      <td>-0.309221</td>\n",
       "      <td>-0.929310</td>\n",
       "      <td>1.107066</td>\n",
       "      <td>-0.995917</td>\n",
       "      <td>0.995917</td>\n",
       "    </tr>\n",
       "    <tr>\n",
       "      <th>2161</th>\n",
       "      <td>-0.264680</td>\n",
       "      <td>-0.339390</td>\n",
       "      <td>1.018350</td>\n",
       "      <td>-0.541628</td>\n",
       "      <td>-1.826347</td>\n",
       "      <td>-0.866651</td>\n",
       "      <td>0.042914</td>\n",
       "      <td>-1.910509</td>\n",
       "      <td>-0.770410</td>\n",
       "      <td>-0.446446</td>\n",
       "      <td>...</td>\n",
       "      <td>-0.187218</td>\n",
       "      <td>-0.161615</td>\n",
       "      <td>-0.154823</td>\n",
       "      <td>-0.171699</td>\n",
       "      <td>-0.144505</td>\n",
       "      <td>-0.309221</td>\n",
       "      <td>1.076067</td>\n",
       "      <td>-0.903289</td>\n",
       "      <td>1.004099</td>\n",
       "      <td>-1.004099</td>\n",
       "    </tr>\n",
       "    <tr>\n",
       "      <th>3192</th>\n",
       "      <td>-0.011207</td>\n",
       "      <td>0.021576</td>\n",
       "      <td>1.018350</td>\n",
       "      <td>-0.541628</td>\n",
       "      <td>0.253075</td>\n",
       "      <td>-0.866651</td>\n",
       "      <td>0.042914</td>\n",
       "      <td>0.148834</td>\n",
       "      <td>0.341075</td>\n",
       "      <td>1.336905</td>\n",
       "      <td>...</td>\n",
       "      <td>-0.187218</td>\n",
       "      <td>-0.161615</td>\n",
       "      <td>-0.154823</td>\n",
       "      <td>-0.171699</td>\n",
       "      <td>-0.144505</td>\n",
       "      <td>-0.309221</td>\n",
       "      <td>1.076067</td>\n",
       "      <td>-0.903289</td>\n",
       "      <td>-0.995917</td>\n",
       "      <td>0.995917</td>\n",
       "    </tr>\n",
       "    <tr>\n",
       "      <th>2708</th>\n",
       "      <td>0.326756</td>\n",
       "      <td>0.382542</td>\n",
       "      <td>1.018350</td>\n",
       "      <td>1.519932</td>\n",
       "      <td>1.292786</td>\n",
       "      <td>0.177793</td>\n",
       "      <td>0.042914</td>\n",
       "      <td>1.178506</td>\n",
       "      <td>0.452224</td>\n",
       "      <td>1.336905</td>\n",
       "      <td>...</td>\n",
       "      <td>-0.187218</td>\n",
       "      <td>-0.161615</td>\n",
       "      <td>-0.154823</td>\n",
       "      <td>-0.171699</td>\n",
       "      <td>-0.144505</td>\n",
       "      <td>-0.309221</td>\n",
       "      <td>1.076067</td>\n",
       "      <td>-0.903289</td>\n",
       "      <td>1.004099</td>\n",
       "      <td>-1.004099</td>\n",
       "    </tr>\n",
       "    <tr>\n",
       "      <th>2139</th>\n",
       "      <td>0.918192</td>\n",
       "      <td>1.014232</td>\n",
       "      <td>-0.981981</td>\n",
       "      <td>0.489152</td>\n",
       "      <td>1.292786</td>\n",
       "      <td>1.222237</td>\n",
       "      <td>0.769144</td>\n",
       "      <td>1.178506</td>\n",
       "      <td>1.119115</td>\n",
       "      <td>-0.446446</td>\n",
       "      <td>...</td>\n",
       "      <td>-0.187218</td>\n",
       "      <td>-0.161615</td>\n",
       "      <td>-0.154823</td>\n",
       "      <td>-0.171699</td>\n",
       "      <td>-0.144505</td>\n",
       "      <td>-0.309221</td>\n",
       "      <td>-0.929310</td>\n",
       "      <td>1.107066</td>\n",
       "      <td>-0.995917</td>\n",
       "      <td>0.995917</td>\n",
       "    </tr>\n",
       "    <tr>\n",
       "      <th>...</th>\n",
       "      <td>...</td>\n",
       "      <td>...</td>\n",
       "      <td>...</td>\n",
       "      <td>...</td>\n",
       "      <td>...</td>\n",
       "      <td>...</td>\n",
       "      <td>...</td>\n",
       "      <td>...</td>\n",
       "      <td>...</td>\n",
       "      <td>...</td>\n",
       "      <td>...</td>\n",
       "      <td>...</td>\n",
       "      <td>...</td>\n",
       "      <td>...</td>\n",
       "      <td>...</td>\n",
       "      <td>...</td>\n",
       "      <td>...</td>\n",
       "      <td>...</td>\n",
       "      <td>...</td>\n",
       "      <td>...</td>\n",
       "      <td>...</td>\n",
       "    </tr>\n",
       "    <tr>\n",
       "      <th>905</th>\n",
       "      <td>1.002682</td>\n",
       "      <td>0.833749</td>\n",
       "      <td>-0.981981</td>\n",
       "      <td>0.489152</td>\n",
       "      <td>-1.826347</td>\n",
       "      <td>-1.911096</td>\n",
       "      <td>0.769144</td>\n",
       "      <td>-1.910509</td>\n",
       "      <td>0.785669</td>\n",
       "      <td>0.445230</td>\n",
       "      <td>...</td>\n",
       "      <td>-0.187218</td>\n",
       "      <td>-0.161615</td>\n",
       "      <td>-0.154823</td>\n",
       "      <td>-0.171699</td>\n",
       "      <td>-0.144505</td>\n",
       "      <td>-0.309221</td>\n",
       "      <td>1.076067</td>\n",
       "      <td>-0.903289</td>\n",
       "      <td>1.004099</td>\n",
       "      <td>-1.004099</td>\n",
       "    </tr>\n",
       "    <tr>\n",
       "      <th>5192</th>\n",
       "      <td>1.002682</td>\n",
       "      <td>0.923991</td>\n",
       "      <td>-0.981981</td>\n",
       "      <td>-0.541628</td>\n",
       "      <td>-0.786636</td>\n",
       "      <td>0.177793</td>\n",
       "      <td>0.769144</td>\n",
       "      <td>0.148834</td>\n",
       "      <td>1.119115</td>\n",
       "      <td>-0.446446</td>\n",
       "      <td>...</td>\n",
       "      <td>-0.187218</td>\n",
       "      <td>-0.161615</td>\n",
       "      <td>-0.154823</td>\n",
       "      <td>-0.171699</td>\n",
       "      <td>-0.144505</td>\n",
       "      <td>-0.309221</td>\n",
       "      <td>-0.929310</td>\n",
       "      <td>1.107066</td>\n",
       "      <td>-0.995917</td>\n",
       "      <td>0.995917</td>\n",
       "    </tr>\n",
       "    <tr>\n",
       "      <th>3980</th>\n",
       "      <td>1.509627</td>\n",
       "      <td>1.645923</td>\n",
       "      <td>-0.981981</td>\n",
       "      <td>-2.603188</td>\n",
       "      <td>-0.786636</td>\n",
       "      <td>0.177793</td>\n",
       "      <td>1.495375</td>\n",
       "      <td>0.148834</td>\n",
       "      <td>1.452560</td>\n",
       "      <td>1.336905</td>\n",
       "      <td>...</td>\n",
       "      <td>-0.187218</td>\n",
       "      <td>-0.161615</td>\n",
       "      <td>-0.154823</td>\n",
       "      <td>-0.171699</td>\n",
       "      <td>-0.144505</td>\n",
       "      <td>-0.309221</td>\n",
       "      <td>1.076067</td>\n",
       "      <td>-0.903289</td>\n",
       "      <td>-0.995917</td>\n",
       "      <td>0.995917</td>\n",
       "    </tr>\n",
       "    <tr>\n",
       "      <th>235</th>\n",
       "      <td>-0.349170</td>\n",
       "      <td>-0.429632</td>\n",
       "      <td>1.018350</td>\n",
       "      <td>0.489152</td>\n",
       "      <td>0.253075</td>\n",
       "      <td>0.177793</td>\n",
       "      <td>-0.683317</td>\n",
       "      <td>0.148834</td>\n",
       "      <td>-0.992706</td>\n",
       "      <td>0.445230</td>\n",
       "      <td>...</td>\n",
       "      <td>-0.187218</td>\n",
       "      <td>-0.161615</td>\n",
       "      <td>-0.154823</td>\n",
       "      <td>-0.171699</td>\n",
       "      <td>-0.144505</td>\n",
       "      <td>-0.309221</td>\n",
       "      <td>1.076067</td>\n",
       "      <td>-0.903289</td>\n",
       "      <td>-0.995917</td>\n",
       "      <td>0.995917</td>\n",
       "    </tr>\n",
       "    <tr>\n",
       "      <th>5157</th>\n",
       "      <td>-0.856115</td>\n",
       "      <td>-0.971080</td>\n",
       "      <td>-0.981981</td>\n",
       "      <td>0.489152</td>\n",
       "      <td>1.292786</td>\n",
       "      <td>1.222237</td>\n",
       "      <td>-0.683317</td>\n",
       "      <td>0.148834</td>\n",
       "      <td>-0.881558</td>\n",
       "      <td>1.336905</td>\n",
       "      <td>...</td>\n",
       "      <td>-0.187218</td>\n",
       "      <td>-0.161615</td>\n",
       "      <td>-0.154823</td>\n",
       "      <td>-0.171699</td>\n",
       "      <td>-0.144505</td>\n",
       "      <td>-0.309221</td>\n",
       "      <td>1.076067</td>\n",
       "      <td>-0.903289</td>\n",
       "      <td>1.004099</td>\n",
       "      <td>-1.004099</td>\n",
       "    </tr>\n",
       "  </tbody>\n",
       "</table>\n",
       "<p>4400 rows × 87 columns</p>\n",
       "</div>"
      ],
      "text/plain": [
       "           Age  years_of_experience    Gender  Education_level  \\\n",
       "3332  0.073284             0.111817  1.018350         1.519932   \n",
       "2161 -0.264680            -0.339390  1.018350        -0.541628   \n",
       "3192 -0.011207             0.021576  1.018350        -0.541628   \n",
       "2708  0.326756             0.382542  1.018350         1.519932   \n",
       "2139  0.918192             1.014232 -0.981981         0.489152   \n",
       "...        ...                  ...       ...              ...   \n",
       "905   1.002682             0.833749 -0.981981         0.489152   \n",
       "5192  1.002682             0.923991 -0.981981        -0.541628   \n",
       "3980  1.509627             1.645923 -0.981981        -2.603188   \n",
       "235  -0.349170            -0.429632  1.018350         0.489152   \n",
       "5157 -0.856115            -0.971080 -0.981981         0.489152   \n",
       "\n",
       "      Work_Environment_Satisfaction_Level  JobInvolvement  JobLevel  \\\n",
       "3332                             0.253075        1.222237  0.042914   \n",
       "2161                            -1.826347       -0.866651  0.042914   \n",
       "3192                             0.253075       -0.866651  0.042914   \n",
       "2708                             1.292786        0.177793  0.042914   \n",
       "2139                             1.292786        1.222237  0.769144   \n",
       "...                                   ...             ...       ...   \n",
       "905                             -1.826347       -1.911096  0.769144   \n",
       "5192                            -0.786636        0.177793  0.769144   \n",
       "3980                            -0.786636        0.177793  1.495375   \n",
       "235                              0.253075        0.177793 -0.683317   \n",
       "5157                             1.292786        1.222237 -0.683317   \n",
       "\n",
       "      JobSatisfaction  Annual_Income_in_lacs  RelationshipSatisfaction  ...  \\\n",
       "3332         1.178506               0.563372                  1.336905  ...   \n",
       "2161        -1.910509              -0.770410                 -0.446446  ...   \n",
       "3192         0.148834               0.341075                  1.336905  ...   \n",
       "2708         1.178506               0.452224                  1.336905  ...   \n",
       "2139         1.178506               1.119115                 -0.446446  ...   \n",
       "...               ...                    ...                       ...  ...   \n",
       "905         -1.910509               0.785669                  0.445230  ...   \n",
       "5192         0.148834               1.119115                 -0.446446  ...   \n",
       "3980         0.148834               1.452560                  1.336905  ...   \n",
       "235          0.148834              -0.992706                  0.445230  ...   \n",
       "5157         0.148834              -0.881558                  1.336905  ...   \n",
       "\n",
       "      Job_role_Software_application_packager  Job_role_Strategic_Planner  \\\n",
       "3332                               -0.187218                   -0.161615   \n",
       "2161                               -0.187218                   -0.161615   \n",
       "3192                               -0.187218                   -0.161615   \n",
       "2708                               -0.187218                   -0.161615   \n",
       "2139                               -0.187218                   -0.161615   \n",
       "...                                      ...                         ...   \n",
       "905                                -0.187218                   -0.161615   \n",
       "5192                               -0.187218                   -0.161615   \n",
       "3980                               -0.187218                   -0.161615   \n",
       "235                                -0.187218                   -0.161615   \n",
       "5157                               -0.187218                   -0.161615   \n",
       "\n",
       "      Job_role_Systems_analyst  Job_role_Talent_Management  \\\n",
       "3332                 -0.154823                   -0.171699   \n",
       "2161                 -0.154823                   -0.171699   \n",
       "3192                 -0.154823                   -0.171699   \n",
       "2708                 -0.154823                   -0.171699   \n",
       "2139                 -0.154823                   -0.171699   \n",
       "...                        ...                         ...   \n",
       "905                  -0.154823                   -0.171699   \n",
       "5192                 -0.154823                   -0.171699   \n",
       "3980                 -0.154823                   -0.171699   \n",
       "235                  -0.154823                   -0.171699   \n",
       "5157                 -0.154823                   -0.171699   \n",
       "\n",
       "      Job_role_Training_and_Development  MaritalStatus_Divorced  \\\n",
       "3332                          -0.144505               -0.309221   \n",
       "2161                          -0.144505               -0.309221   \n",
       "3192                          -0.144505               -0.309221   \n",
       "2708                          -0.144505               -0.309221   \n",
       "2139                          -0.144505               -0.309221   \n",
       "...                                 ...                     ...   \n",
       "905                           -0.144505               -0.309221   \n",
       "5192                          -0.144505               -0.309221   \n",
       "3980                          -0.144505               -0.309221   \n",
       "235                           -0.144505               -0.309221   \n",
       "5157                          -0.144505               -0.309221   \n",
       "\n",
       "      MaritalStatus_Married  MaritalStatus_Single  Working_Status_WFH  \\\n",
       "3332              -0.929310              1.107066           -0.995917   \n",
       "2161               1.076067             -0.903289            1.004099   \n",
       "3192               1.076067             -0.903289           -0.995917   \n",
       "2708               1.076067             -0.903289            1.004099   \n",
       "2139              -0.929310              1.107066           -0.995917   \n",
       "...                     ...                   ...                 ...   \n",
       "905                1.076067             -0.903289            1.004099   \n",
       "5192              -0.929310              1.107066           -0.995917   \n",
       "3980               1.076067             -0.903289           -0.995917   \n",
       "235                1.076067             -0.903289           -0.995917   \n",
       "5157               1.076067             -0.903289            1.004099   \n",
       "\n",
       "      Working_Status_WFO  \n",
       "3332            0.995917  \n",
       "2161           -1.004099  \n",
       "3192            0.995917  \n",
       "2708           -1.004099  \n",
       "2139            0.995917  \n",
       "...                  ...  \n",
       "905            -1.004099  \n",
       "5192            0.995917  \n",
       "3980            0.995917  \n",
       "235             0.995917  \n",
       "5157           -1.004099  \n",
       "\n",
       "[4400 rows x 87 columns]"
      ]
     },
     "execution_count": 69,
     "metadata": {},
     "output_type": "execute_result"
    }
   ],
   "source": [
    "x_train"
   ]
  },
  {
   "cell_type": "code",
   "execution_count": 70,
   "id": "0476a7a9",
   "metadata": {},
   "outputs": [
    {
     "data": {
      "text/plain": [
       "3332    3\n",
       "2161    0\n",
       "3192    1\n",
       "2708    3\n",
       "2139    2\n",
       "       ..\n",
       "905     0\n",
       "5192    2\n",
       "3980    1\n",
       "235     1\n",
       "5157    3\n",
       "Name: Performance_Rating, Length: 4400, dtype: int64"
      ]
     },
     "execution_count": 70,
     "metadata": {},
     "output_type": "execute_result"
    }
   ],
   "source": [
    "y_train"
   ]
  },
  {
   "cell_type": "code",
   "execution_count": 71,
   "id": "2fd60fc1",
   "metadata": {},
   "outputs": [
    {
     "data": {
      "text/html": [
       "<div>\n",
       "<style scoped>\n",
       "    .dataframe tbody tr th:only-of-type {\n",
       "        vertical-align: middle;\n",
       "    }\n",
       "\n",
       "    .dataframe tbody tr th {\n",
       "        vertical-align: top;\n",
       "    }\n",
       "\n",
       "    .dataframe thead th {\n",
       "        text-align: right;\n",
       "    }\n",
       "</style>\n",
       "<table border=\"1\" class=\"dataframe\">\n",
       "  <thead>\n",
       "    <tr style=\"text-align: right;\">\n",
       "      <th></th>\n",
       "      <th>Age</th>\n",
       "      <th>years_of_experience</th>\n",
       "      <th>Gender</th>\n",
       "      <th>Education_level</th>\n",
       "      <th>Work_Environment_Satisfaction_Level</th>\n",
       "      <th>JobInvolvement</th>\n",
       "      <th>JobLevel</th>\n",
       "      <th>JobSatisfaction</th>\n",
       "      <th>Annual_Income_in_lacs</th>\n",
       "      <th>RelationshipSatisfaction</th>\n",
       "      <th>...</th>\n",
       "      <th>Job_role_Software_application_packager</th>\n",
       "      <th>Job_role_Strategic_Planner</th>\n",
       "      <th>Job_role_Systems_analyst</th>\n",
       "      <th>Job_role_Talent_Management</th>\n",
       "      <th>Job_role_Training_and_Development</th>\n",
       "      <th>MaritalStatus_Divorced</th>\n",
       "      <th>MaritalStatus_Married</th>\n",
       "      <th>MaritalStatus_Single</th>\n",
       "      <th>Working_Status_WFH</th>\n",
       "      <th>Working_Status_WFO</th>\n",
       "    </tr>\n",
       "  </thead>\n",
       "  <tbody>\n",
       "    <tr>\n",
       "      <th>4410</th>\n",
       "      <td>1.678609</td>\n",
       "      <td>1.916647</td>\n",
       "      <td>-0.981981</td>\n",
       "      <td>-1.572408</td>\n",
       "      <td>0.253075</td>\n",
       "      <td>0.177793</td>\n",
       "      <td>1.495375</td>\n",
       "      <td>-0.880837</td>\n",
       "      <td>1.452560</td>\n",
       "      <td>-1.338121</td>\n",
       "      <td>...</td>\n",
       "      <td>-0.187218</td>\n",
       "      <td>-0.161615</td>\n",
       "      <td>-0.154823</td>\n",
       "      <td>-0.171699</td>\n",
       "      <td>-0.144505</td>\n",
       "      <td>-0.309221</td>\n",
       "      <td>1.076067</td>\n",
       "      <td>-0.903289</td>\n",
       "      <td>-0.995917</td>\n",
       "      <td>0.995917</td>\n",
       "    </tr>\n",
       "    <tr>\n",
       "      <th>2256</th>\n",
       "      <td>-0.349170</td>\n",
       "      <td>-0.519873</td>\n",
       "      <td>1.018350</td>\n",
       "      <td>-0.541628</td>\n",
       "      <td>1.292786</td>\n",
       "      <td>1.222237</td>\n",
       "      <td>0.042914</td>\n",
       "      <td>1.178506</td>\n",
       "      <td>-0.770410</td>\n",
       "      <td>1.336905</td>\n",
       "      <td>...</td>\n",
       "      <td>-0.187218</td>\n",
       "      <td>-0.161615</td>\n",
       "      <td>-0.154823</td>\n",
       "      <td>-0.171699</td>\n",
       "      <td>-0.144505</td>\n",
       "      <td>-0.309221</td>\n",
       "      <td>1.076067</td>\n",
       "      <td>-0.903289</td>\n",
       "      <td>-0.995917</td>\n",
       "      <td>0.995917</td>\n",
       "    </tr>\n",
       "    <tr>\n",
       "      <th>3684</th>\n",
       "      <td>-0.095698</td>\n",
       "      <td>-0.249149</td>\n",
       "      <td>1.018350</td>\n",
       "      <td>0.489152</td>\n",
       "      <td>1.292786</td>\n",
       "      <td>0.177793</td>\n",
       "      <td>0.042914</td>\n",
       "      <td>1.178506</td>\n",
       "      <td>-0.103519</td>\n",
       "      <td>1.336905</td>\n",
       "      <td>...</td>\n",
       "      <td>-0.187218</td>\n",
       "      <td>-0.161615</td>\n",
       "      <td>-0.154823</td>\n",
       "      <td>-0.171699</td>\n",
       "      <td>-0.144505</td>\n",
       "      <td>-0.309221</td>\n",
       "      <td>-0.929310</td>\n",
       "      <td>1.107066</td>\n",
       "      <td>1.004099</td>\n",
       "      <td>-1.004099</td>\n",
       "    </tr>\n",
       "    <tr>\n",
       "      <th>4706</th>\n",
       "      <td>0.157774</td>\n",
       "      <td>0.111817</td>\n",
       "      <td>1.018350</td>\n",
       "      <td>-0.541628</td>\n",
       "      <td>0.253075</td>\n",
       "      <td>0.177793</td>\n",
       "      <td>0.042914</td>\n",
       "      <td>1.178506</td>\n",
       "      <td>0.563372</td>\n",
       "      <td>-0.446446</td>\n",
       "      <td>...</td>\n",
       "      <td>-0.187218</td>\n",
       "      <td>-0.161615</td>\n",
       "      <td>-0.154823</td>\n",
       "      <td>-0.171699</td>\n",
       "      <td>-0.144505</td>\n",
       "      <td>-0.309221</td>\n",
       "      <td>1.076067</td>\n",
       "      <td>-0.903289</td>\n",
       "      <td>-0.995917</td>\n",
       "      <td>0.995917</td>\n",
       "    </tr>\n",
       "    <tr>\n",
       "      <th>5429</th>\n",
       "      <td>1.509627</td>\n",
       "      <td>1.736164</td>\n",
       "      <td>1.018350</td>\n",
       "      <td>0.489152</td>\n",
       "      <td>0.253075</td>\n",
       "      <td>0.177793</td>\n",
       "      <td>1.495375</td>\n",
       "      <td>1.178506</td>\n",
       "      <td>1.341412</td>\n",
       "      <td>0.445230</td>\n",
       "      <td>...</td>\n",
       "      <td>-0.187218</td>\n",
       "      <td>-0.161615</td>\n",
       "      <td>-0.154823</td>\n",
       "      <td>-0.171699</td>\n",
       "      <td>-0.144505</td>\n",
       "      <td>-0.309221</td>\n",
       "      <td>1.076067</td>\n",
       "      <td>-0.903289</td>\n",
       "      <td>1.004099</td>\n",
       "      <td>-1.004099</td>\n",
       "    </tr>\n",
       "    <tr>\n",
       "      <th>...</th>\n",
       "      <td>...</td>\n",
       "      <td>...</td>\n",
       "      <td>...</td>\n",
       "      <td>...</td>\n",
       "      <td>...</td>\n",
       "      <td>...</td>\n",
       "      <td>...</td>\n",
       "      <td>...</td>\n",
       "      <td>...</td>\n",
       "      <td>...</td>\n",
       "      <td>...</td>\n",
       "      <td>...</td>\n",
       "      <td>...</td>\n",
       "      <td>...</td>\n",
       "      <td>...</td>\n",
       "      <td>...</td>\n",
       "      <td>...</td>\n",
       "      <td>...</td>\n",
       "      <td>...</td>\n",
       "      <td>...</td>\n",
       "      <td>...</td>\n",
       "    </tr>\n",
       "    <tr>\n",
       "      <th>965</th>\n",
       "      <td>-0.264680</td>\n",
       "      <td>-0.429632</td>\n",
       "      <td>1.018350</td>\n",
       "      <td>-1.572408</td>\n",
       "      <td>-1.826347</td>\n",
       "      <td>-1.911096</td>\n",
       "      <td>0.042914</td>\n",
       "      <td>-1.910509</td>\n",
       "      <td>-0.770410</td>\n",
       "      <td>1.336905</td>\n",
       "      <td>...</td>\n",
       "      <td>-0.187218</td>\n",
       "      <td>-0.161615</td>\n",
       "      <td>-0.154823</td>\n",
       "      <td>-0.171699</td>\n",
       "      <td>-0.144505</td>\n",
       "      <td>-0.309221</td>\n",
       "      <td>-0.929310</td>\n",
       "      <td>1.107066</td>\n",
       "      <td>1.004099</td>\n",
       "      <td>-1.004099</td>\n",
       "    </tr>\n",
       "    <tr>\n",
       "      <th>1240</th>\n",
       "      <td>1.594118</td>\n",
       "      <td>1.645923</td>\n",
       "      <td>-0.981981</td>\n",
       "      <td>1.519932</td>\n",
       "      <td>-1.826347</td>\n",
       "      <td>-1.911096</td>\n",
       "      <td>1.495375</td>\n",
       "      <td>-0.880837</td>\n",
       "      <td>1.452560</td>\n",
       "      <td>0.445230</td>\n",
       "      <td>...</td>\n",
       "      <td>-0.187218</td>\n",
       "      <td>-0.161615</td>\n",
       "      <td>-0.154823</td>\n",
       "      <td>-0.171699</td>\n",
       "      <td>-0.144505</td>\n",
       "      <td>-0.309221</td>\n",
       "      <td>-0.929310</td>\n",
       "      <td>1.107066</td>\n",
       "      <td>1.004099</td>\n",
       "      <td>-1.004099</td>\n",
       "    </tr>\n",
       "    <tr>\n",
       "      <th>2159</th>\n",
       "      <td>-1.278569</td>\n",
       "      <td>-1.151563</td>\n",
       "      <td>1.018350</td>\n",
       "      <td>0.489152</td>\n",
       "      <td>0.253075</td>\n",
       "      <td>0.177793</td>\n",
       "      <td>-1.409548</td>\n",
       "      <td>0.148834</td>\n",
       "      <td>-1.215003</td>\n",
       "      <td>0.445230</td>\n",
       "      <td>...</td>\n",
       "      <td>-0.187218</td>\n",
       "      <td>-0.161615</td>\n",
       "      <td>-0.154823</td>\n",
       "      <td>-0.171699</td>\n",
       "      <td>-0.144505</td>\n",
       "      <td>-0.309221</td>\n",
       "      <td>1.076067</td>\n",
       "      <td>-0.903289</td>\n",
       "      <td>1.004099</td>\n",
       "      <td>-1.004099</td>\n",
       "    </tr>\n",
       "    <tr>\n",
       "      <th>2687</th>\n",
       "      <td>1.509627</td>\n",
       "      <td>1.375198</td>\n",
       "      <td>1.018350</td>\n",
       "      <td>-0.541628</td>\n",
       "      <td>0.253075</td>\n",
       "      <td>1.222237</td>\n",
       "      <td>1.495375</td>\n",
       "      <td>1.178506</td>\n",
       "      <td>1.452560</td>\n",
       "      <td>-0.446446</td>\n",
       "      <td>...</td>\n",
       "      <td>-0.187218</td>\n",
       "      <td>-0.161615</td>\n",
       "      <td>-0.154823</td>\n",
       "      <td>-0.171699</td>\n",
       "      <td>-0.144505</td>\n",
       "      <td>-0.309221</td>\n",
       "      <td>-0.929310</td>\n",
       "      <td>1.107066</td>\n",
       "      <td>1.004099</td>\n",
       "      <td>-1.004099</td>\n",
       "    </tr>\n",
       "    <tr>\n",
       "      <th>2274</th>\n",
       "      <td>-0.349170</td>\n",
       "      <td>-0.519873</td>\n",
       "      <td>-0.981981</td>\n",
       "      <td>-0.541628</td>\n",
       "      <td>0.253075</td>\n",
       "      <td>0.177793</td>\n",
       "      <td>0.042914</td>\n",
       "      <td>1.178506</td>\n",
       "      <td>-0.770410</td>\n",
       "      <td>0.445230</td>\n",
       "      <td>...</td>\n",
       "      <td>-0.187218</td>\n",
       "      <td>-0.161615</td>\n",
       "      <td>-0.154823</td>\n",
       "      <td>-0.171699</td>\n",
       "      <td>-0.144505</td>\n",
       "      <td>-0.309221</td>\n",
       "      <td>1.076067</td>\n",
       "      <td>-0.903289</td>\n",
       "      <td>-0.995917</td>\n",
       "      <td>0.995917</td>\n",
       "    </tr>\n",
       "  </tbody>\n",
       "</table>\n",
       "<p>1100 rows × 87 columns</p>\n",
       "</div>"
      ],
      "text/plain": [
       "           Age  years_of_experience    Gender  Education_level  \\\n",
       "4410  1.678609             1.916647 -0.981981        -1.572408   \n",
       "2256 -0.349170            -0.519873  1.018350        -0.541628   \n",
       "3684 -0.095698            -0.249149  1.018350         0.489152   \n",
       "4706  0.157774             0.111817  1.018350        -0.541628   \n",
       "5429  1.509627             1.736164  1.018350         0.489152   \n",
       "...        ...                  ...       ...              ...   \n",
       "965  -0.264680            -0.429632  1.018350        -1.572408   \n",
       "1240  1.594118             1.645923 -0.981981         1.519932   \n",
       "2159 -1.278569            -1.151563  1.018350         0.489152   \n",
       "2687  1.509627             1.375198  1.018350        -0.541628   \n",
       "2274 -0.349170            -0.519873 -0.981981        -0.541628   \n",
       "\n",
       "      Work_Environment_Satisfaction_Level  JobInvolvement  JobLevel  \\\n",
       "4410                             0.253075        0.177793  1.495375   \n",
       "2256                             1.292786        1.222237  0.042914   \n",
       "3684                             1.292786        0.177793  0.042914   \n",
       "4706                             0.253075        0.177793  0.042914   \n",
       "5429                             0.253075        0.177793  1.495375   \n",
       "...                                   ...             ...       ...   \n",
       "965                             -1.826347       -1.911096  0.042914   \n",
       "1240                            -1.826347       -1.911096  1.495375   \n",
       "2159                             0.253075        0.177793 -1.409548   \n",
       "2687                             0.253075        1.222237  1.495375   \n",
       "2274                             0.253075        0.177793  0.042914   \n",
       "\n",
       "      JobSatisfaction  Annual_Income_in_lacs  RelationshipSatisfaction  ...  \\\n",
       "4410        -0.880837               1.452560                 -1.338121  ...   \n",
       "2256         1.178506              -0.770410                  1.336905  ...   \n",
       "3684         1.178506              -0.103519                  1.336905  ...   \n",
       "4706         1.178506               0.563372                 -0.446446  ...   \n",
       "5429         1.178506               1.341412                  0.445230  ...   \n",
       "...               ...                    ...                       ...  ...   \n",
       "965         -1.910509              -0.770410                  1.336905  ...   \n",
       "1240        -0.880837               1.452560                  0.445230  ...   \n",
       "2159         0.148834              -1.215003                  0.445230  ...   \n",
       "2687         1.178506               1.452560                 -0.446446  ...   \n",
       "2274         1.178506              -0.770410                  0.445230  ...   \n",
       "\n",
       "      Job_role_Software_application_packager  Job_role_Strategic_Planner  \\\n",
       "4410                               -0.187218                   -0.161615   \n",
       "2256                               -0.187218                   -0.161615   \n",
       "3684                               -0.187218                   -0.161615   \n",
       "4706                               -0.187218                   -0.161615   \n",
       "5429                               -0.187218                   -0.161615   \n",
       "...                                      ...                         ...   \n",
       "965                                -0.187218                   -0.161615   \n",
       "1240                               -0.187218                   -0.161615   \n",
       "2159                               -0.187218                   -0.161615   \n",
       "2687                               -0.187218                   -0.161615   \n",
       "2274                               -0.187218                   -0.161615   \n",
       "\n",
       "      Job_role_Systems_analyst  Job_role_Talent_Management  \\\n",
       "4410                 -0.154823                   -0.171699   \n",
       "2256                 -0.154823                   -0.171699   \n",
       "3684                 -0.154823                   -0.171699   \n",
       "4706                 -0.154823                   -0.171699   \n",
       "5429                 -0.154823                   -0.171699   \n",
       "...                        ...                         ...   \n",
       "965                  -0.154823                   -0.171699   \n",
       "1240                 -0.154823                   -0.171699   \n",
       "2159                 -0.154823                   -0.171699   \n",
       "2687                 -0.154823                   -0.171699   \n",
       "2274                 -0.154823                   -0.171699   \n",
       "\n",
       "      Job_role_Training_and_Development  MaritalStatus_Divorced  \\\n",
       "4410                          -0.144505               -0.309221   \n",
       "2256                          -0.144505               -0.309221   \n",
       "3684                          -0.144505               -0.309221   \n",
       "4706                          -0.144505               -0.309221   \n",
       "5429                          -0.144505               -0.309221   \n",
       "...                                 ...                     ...   \n",
       "965                           -0.144505               -0.309221   \n",
       "1240                          -0.144505               -0.309221   \n",
       "2159                          -0.144505               -0.309221   \n",
       "2687                          -0.144505               -0.309221   \n",
       "2274                          -0.144505               -0.309221   \n",
       "\n",
       "      MaritalStatus_Married  MaritalStatus_Single  Working_Status_WFH  \\\n",
       "4410               1.076067             -0.903289           -0.995917   \n",
       "2256               1.076067             -0.903289           -0.995917   \n",
       "3684              -0.929310              1.107066            1.004099   \n",
       "4706               1.076067             -0.903289           -0.995917   \n",
       "5429               1.076067             -0.903289            1.004099   \n",
       "...                     ...                   ...                 ...   \n",
       "965               -0.929310              1.107066            1.004099   \n",
       "1240              -0.929310              1.107066            1.004099   \n",
       "2159               1.076067             -0.903289            1.004099   \n",
       "2687              -0.929310              1.107066            1.004099   \n",
       "2274               1.076067             -0.903289           -0.995917   \n",
       "\n",
       "      Working_Status_WFO  \n",
       "4410            0.995917  \n",
       "2256            0.995917  \n",
       "3684           -1.004099  \n",
       "4706            0.995917  \n",
       "5429           -1.004099  \n",
       "...                  ...  \n",
       "965            -1.004099  \n",
       "1240           -1.004099  \n",
       "2159           -1.004099  \n",
       "2687           -1.004099  \n",
       "2274            0.995917  \n",
       "\n",
       "[1100 rows x 87 columns]"
      ]
     },
     "execution_count": 71,
     "metadata": {},
     "output_type": "execute_result"
    }
   ],
   "source": [
    "x_test"
   ]
  },
  {
   "cell_type": "code",
   "execution_count": 72,
   "id": "fcfd4870",
   "metadata": {},
   "outputs": [
    {
     "data": {
      "text/plain": [
       "4410    1\n",
       "2256    3\n",
       "3684    3\n",
       "4706    3\n",
       "5429    3\n",
       "       ..\n",
       "965     0\n",
       "1240    0\n",
       "2159    2\n",
       "2687    3\n",
       "2274    2\n",
       "Name: Performance_Rating, Length: 1100, dtype: int64"
      ]
     },
     "execution_count": 72,
     "metadata": {},
     "output_type": "execute_result"
    }
   ],
   "source": [
    "y_test"
   ]
  },
  {
   "cell_type": "code",
   "execution_count": 73,
   "id": "4a807e1a",
   "metadata": {},
   "outputs": [
    {
     "name": "stdout",
     "output_type": "stream",
     "text": [
      "Logistic Regression: trained\n",
      "k-Nearest Neighbors: trained\n",
      "Decision Tree: trained\n",
      "Support Vector Machine(Linear Kernal): trained\n",
      "Support Vector Machine(RBF Kernal): trained\n",
      "Nureal Network: trained\n",
      "Random Forest: trained\n",
      "Gredient Boosting: trained\n"
     ]
    }
   ],
   "source": [
    "models= {\n",
    "    \"Logistic Regression\":LogisticRegression(),\n",
    "    \"k-Nearest Neighbors\":KNeighborsClassifier(),\n",
    "    \"Decision Tree\":DecisionTreeClassifier(),\n",
    "    \"Support Vector Machine(Linear Kernal)\": LinearSVC(),\n",
    "    \"Support Vector Machine(RBF Kernal)\": SVC(),\n",
    "    \"Nureal Network\":MLPClassifier(),\n",
    "    \"Random Forest\":RandomForestClassifier(),\n",
    "    \"Gredient Boosting\":GradientBoostingClassifier()\n",
    "}\n",
    "for name, model in models.items():\n",
    "    model.fit(x_train,y_train)\n",
    "    print(name+': trained')"
   ]
  },
  {
   "cell_type": "code",
   "execution_count": 74,
   "id": "9a48d346",
   "metadata": {
    "scrolled": true
   },
   "outputs": [
    {
     "name": "stdout",
     "output_type": "stream",
     "text": [
      "Logistic Regression: 96.55%\n",
      "k-Nearest Neighbors: 79.00%\n",
      "Decision Tree: 97.55%\n",
      "Support Vector Machine(Linear Kernal): 89.73%\n",
      "Support Vector Machine(RBF Kernal): 97.73%\n",
      "Nureal Network: 97.00%\n",
      "Random Forest: 98.64%\n",
      "Gredient Boosting: 98.64%\n"
     ]
    }
   ],
   "source": [
    "for name , model in models.items():\n",
    "    print(name+ \": {:.2f}%\".format(model.score(x_test,y_test)*100))"
   ]
  },
  {
   "cell_type": "code",
   "execution_count": 75,
   "id": "92d2e490",
   "metadata": {},
   "outputs": [
    {
     "name": "stdout",
     "output_type": "stream",
     "text": [
      "Logistic Regression: 98.16%\n",
      "k-Nearest Neighbors: 88.39%\n",
      "Decision Tree: 100.00%\n",
      "Support Vector Machine(Linear Kernal): 91.86%\n",
      "Support Vector Machine(RBF Kernal): 99.00%\n",
      "Nureal Network: 100.00%\n",
      "Random Forest: 100.00%\n",
      "Gredient Boosting: 99.86%\n"
     ]
    }
   ],
   "source": [
    " for name , model in models.items():\n",
    "    print(name+ \": {:.2f}%\".format(model.score(x_train,y_train)*100))"
   ]
  }
 ],
 "metadata": {
  "kernelspec": {
   "display_name": "Python 3",
   "language": "python",
   "name": "python3"
  },
  "language_info": {
   "codemirror_mode": {
    "name": "ipython",
    "version": 3
   },
   "file_extension": ".py",
   "mimetype": "text/x-python",
   "name": "python",
   "nbconvert_exporter": "python",
   "pygments_lexer": "ipython3",
   "version": "3.8.8"
  }
 },
 "nbformat": 4,
 "nbformat_minor": 5
}
